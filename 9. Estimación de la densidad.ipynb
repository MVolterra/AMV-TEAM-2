{
 "cells": [
  {
   "cell_type": "code",
   "execution_count": 154,
   "metadata": {},
   "outputs": [],
   "source": [
    "import pandas as pd\n",
    "import numpy as np\n",
    "import matplotlib.pylab as plt\n",
    "from math import sqrt,pi,exp"
   ]
  },
  {
   "cell_type": "code",
   "execution_count": 4,
   "metadata": {},
   "outputs": [
    {
     "data": {
      "text/html": [
       "<div>\n",
       "<style scoped>\n",
       "    .dataframe tbody tr th:only-of-type {\n",
       "        vertical-align: middle;\n",
       "    }\n",
       "\n",
       "    .dataframe tbody tr th {\n",
       "        vertical-align: top;\n",
       "    }\n",
       "\n",
       "    .dataframe thead th {\n",
       "        text-align: right;\n",
       "    }\n",
       "</style>\n",
       "<table border=\"1\" class=\"dataframe\">\n",
       "  <thead>\n",
       "    <tr style=\"text-align: right;\">\n",
       "      <th></th>\n",
       "      <th>FECHA_ACTUALIZACION</th>\n",
       "      <th>ID_REGISTRO</th>\n",
       "      <th>ORIGEN</th>\n",
       "      <th>SECTOR</th>\n",
       "      <th>ENTIDAD_UM</th>\n",
       "      <th>SEXO</th>\n",
       "      <th>ENTIDAD_NAC</th>\n",
       "      <th>ENTIDAD_RES</th>\n",
       "      <th>MUNICIPIO_RES</th>\n",
       "      <th>TIPO_PACIENTE</th>\n",
       "      <th>...</th>\n",
       "      <th>CARDIOVASCULAR</th>\n",
       "      <th>OBESIDAD</th>\n",
       "      <th>RENAL_CRONICA</th>\n",
       "      <th>TABAQUISMO</th>\n",
       "      <th>OTRO_CASO</th>\n",
       "      <th>RESULTADO</th>\n",
       "      <th>MIGRANTE</th>\n",
       "      <th>PAIS_NACIONALIDAD</th>\n",
       "      <th>PAIS_ORIGEN</th>\n",
       "      <th>UCI</th>\n",
       "    </tr>\n",
       "  </thead>\n",
       "  <tbody>\n",
       "    <tr>\n",
       "      <th>0</th>\n",
       "      <td>2020-05-02</td>\n",
       "      <td>0ceb0f</td>\n",
       "      <td>1</td>\n",
       "      <td>4</td>\n",
       "      <td>1</td>\n",
       "      <td>1</td>\n",
       "      <td>1</td>\n",
       "      <td>1</td>\n",
       "      <td>1</td>\n",
       "      <td>1</td>\n",
       "      <td>...</td>\n",
       "      <td>2</td>\n",
       "      <td>2</td>\n",
       "      <td>2</td>\n",
       "      <td>2</td>\n",
       "      <td>99</td>\n",
       "      <td>1</td>\n",
       "      <td>99</td>\n",
       "      <td>MÃ©xico</td>\n",
       "      <td>99</td>\n",
       "      <td>97</td>\n",
       "    </tr>\n",
       "    <tr>\n",
       "      <th>1</th>\n",
       "      <td>2020-05-02</td>\n",
       "      <td>1d9580</td>\n",
       "      <td>1</td>\n",
       "      <td>12</td>\n",
       "      <td>2</td>\n",
       "      <td>2</td>\n",
       "      <td>15</td>\n",
       "      <td>2</td>\n",
       "      <td>2</td>\n",
       "      <td>1</td>\n",
       "      <td>...</td>\n",
       "      <td>2</td>\n",
       "      <td>2</td>\n",
       "      <td>2</td>\n",
       "      <td>2</td>\n",
       "      <td>1</td>\n",
       "      <td>1</td>\n",
       "      <td>99</td>\n",
       "      <td>MÃ©xico</td>\n",
       "      <td>99</td>\n",
       "      <td>97</td>\n",
       "    </tr>\n",
       "    <tr>\n",
       "      <th>2</th>\n",
       "      <td>2020-05-02</td>\n",
       "      <td>119b76</td>\n",
       "      <td>1</td>\n",
       "      <td>4</td>\n",
       "      <td>21</td>\n",
       "      <td>2</td>\n",
       "      <td>21</td>\n",
       "      <td>21</td>\n",
       "      <td>114</td>\n",
       "      <td>1</td>\n",
       "      <td>...</td>\n",
       "      <td>2</td>\n",
       "      <td>2</td>\n",
       "      <td>2</td>\n",
       "      <td>2</td>\n",
       "      <td>99</td>\n",
       "      <td>1</td>\n",
       "      <td>99</td>\n",
       "      <td>MÃ©xico</td>\n",
       "      <td>99</td>\n",
       "      <td>97</td>\n",
       "    </tr>\n",
       "    <tr>\n",
       "      <th>3</th>\n",
       "      <td>2020-05-02</td>\n",
       "      <td>0e6c05</td>\n",
       "      <td>1</td>\n",
       "      <td>4</td>\n",
       "      <td>2</td>\n",
       "      <td>2</td>\n",
       "      <td>2</td>\n",
       "      <td>2</td>\n",
       "      <td>2</td>\n",
       "      <td>2</td>\n",
       "      <td>...</td>\n",
       "      <td>2</td>\n",
       "      <td>1</td>\n",
       "      <td>2</td>\n",
       "      <td>2</td>\n",
       "      <td>99</td>\n",
       "      <td>1</td>\n",
       "      <td>99</td>\n",
       "      <td>MÃ©xico</td>\n",
       "      <td>99</td>\n",
       "      <td>2</td>\n",
       "    </tr>\n",
       "    <tr>\n",
       "      <th>4</th>\n",
       "      <td>2020-05-02</td>\n",
       "      <td>140d7f</td>\n",
       "      <td>1</td>\n",
       "      <td>12</td>\n",
       "      <td>29</td>\n",
       "      <td>1</td>\n",
       "      <td>29</td>\n",
       "      <td>29</td>\n",
       "      <td>21</td>\n",
       "      <td>1</td>\n",
       "      <td>...</td>\n",
       "      <td>2</td>\n",
       "      <td>2</td>\n",
       "      <td>2</td>\n",
       "      <td>2</td>\n",
       "      <td>2</td>\n",
       "      <td>2</td>\n",
       "      <td>99</td>\n",
       "      <td>MÃ©xico</td>\n",
       "      <td>99</td>\n",
       "      <td>97</td>\n",
       "    </tr>\n",
       "  </tbody>\n",
       "</table>\n",
       "<p>5 rows × 35 columns</p>\n",
       "</div>"
      ],
      "text/plain": [
       "  FECHA_ACTUALIZACION ID_REGISTRO  ORIGEN  SECTOR  ENTIDAD_UM  SEXO  \\\n",
       "0          2020-05-02      0ceb0f       1       4           1     1   \n",
       "1          2020-05-02      1d9580       1      12           2     2   \n",
       "2          2020-05-02      119b76       1       4          21     2   \n",
       "3          2020-05-02      0e6c05       1       4           2     2   \n",
       "4          2020-05-02      140d7f       1      12          29     1   \n",
       "\n",
       "   ENTIDAD_NAC  ENTIDAD_RES  MUNICIPIO_RES  TIPO_PACIENTE  ... CARDIOVASCULAR  \\\n",
       "0            1            1              1              1  ...              2   \n",
       "1           15            2              2              1  ...              2   \n",
       "2           21           21            114              1  ...              2   \n",
       "3            2            2              2              2  ...              2   \n",
       "4           29           29             21              1  ...              2   \n",
       "\n",
       "  OBESIDAD RENAL_CRONICA  TABAQUISMO  OTRO_CASO  RESULTADO  MIGRANTE  \\\n",
       "0        2             2           2         99          1        99   \n",
       "1        2             2           2          1          1        99   \n",
       "2        2             2           2         99          1        99   \n",
       "3        1             2           2         99          1        99   \n",
       "4        2             2           2          2          2        99   \n",
       "\n",
       "   PAIS_NACIONALIDAD  PAIS_ORIGEN  UCI  \n",
       "0            MÃ©xico           99   97  \n",
       "1            MÃ©xico           99   97  \n",
       "2            MÃ©xico           99   97  \n",
       "3            MÃ©xico           99    2  \n",
       "4            MÃ©xico           99   97  \n",
       "\n",
       "[5 rows x 35 columns]"
      ]
     },
     "execution_count": 4,
     "metadata": {},
     "output_type": "execute_result"
    }
   ],
   "source": [
    "Datos = pd.read_csv(\"200502COVID19MEXICO.csv\",encoding=\"latin-1\")\n",
    "Datos.head()"
   ]
  },
  {
   "cell_type": "code",
   "execution_count": 216,
   "metadata": {},
   "outputs": [],
   "source": [
    "X = list(Datos[(Datos.EDAD>5)&(Datos.EDAD<90)].EDAD)[0:500]\n",
    "n = len(X)"
   ]
  },
  {
   "cell_type": "code",
   "execution_count": 217,
   "metadata": {},
   "outputs": [],
   "source": [
    "a,b = min(X),max(X)"
   ]
  },
  {
   "cell_type": "code",
   "execution_count": 218,
   "metadata": {},
   "outputs": [],
   "source": [
    "def Error(m):\n",
    "    h = (b-a)/m\n",
    "    Y=[]\n",
    "    p = []\n",
    "    for j in range(m):\n",
    "        Y.append(len([x for x in X if x>=j*(b-a)/m and x<(j+1)*(b-a)/m]))\n",
    "        p.append(len([x for x in X if x>=j*(b-a)/m and x<(j+1)*(b-a)/m])/n)\n",
    "    # fn = lambda x: sum([p[j]/h*(x>=j*(b-a)/m and x<(j+1)*(b-a)/m) for j in range(m)])\n",
    "    J = 2/(h*(n-1))-(n+1)/(h*(n-1))*sum([p[j]**2 for j in range(m)])\n",
    "    return(J)\n",
    "# plt.step(np.linspace(a,b),[fn(x) for x in np.linspace(a,b)])"
   ]
  },
  {
   "cell_type": "code",
   "execution_count": 219,
   "metadata": {},
   "outputs": [
    {
     "data": {
      "text/plain": [
       "[<matplotlib.lines.Line2D at 0x2e211030f60>]"
      ]
     },
     "execution_count": 219,
     "metadata": {},
     "output_type": "execute_result"
    },
    {
     "data": {
      "image/png": "[encoded data removed]",
      "text/plain": [
       "<Figure size 432x288 with 1 Axes>"
      ]
     },
     "metadata": {
      "needs_background": "light"
     },
     "output_type": "display_data"
    }
   ],
   "source": [
    "plt.plot([Error(m) for m in range(10,100)],color='b')"
   ]
  },
  {
   "cell_type": "code",
   "execution_count": 242,
   "metadata": {},
   "outputs": [],
   "source": [
    "def Histograma(m):\n",
    "    h = (b-a)/m\n",
    "    Y=[]\n",
    "    p = []\n",
    "    for j in range(m):\n",
    "        Y.append(len([x for x in X if x>=j*(b-a)/m and x<(j+1)*(b-a)/m]))\n",
    "        p.append(len([x for x in X if x>=j*(b-a)/m and x<(j+1)*(b-a)/m])/n)\n",
    "    fn = lambda x: sum([p[j]/h*(x>=j*(b-a)/m and x<(j+1)*(b-a)/m) for j in range(m)])\n",
    "    plt.step(np.linspace(a,b),[fn(x) for x in np.linspace(a,b)],color='black')"
   ]
  },
  {
   "cell_type": "code",
   "execution_count": 222,
   "metadata": {},
   "outputs": [
    {
     "data": {
      "image/png": "[encoded data removed]",
      "text/plain": [
       "<Figure size 432x288 with 1 Axes>"
      ]
     },
     "metadata": {
      "needs_background": "light"
     },
     "output_type": "display_data"
    }
   ],
   "source": [
    "Histograma(50)"
   ]
  },
  {
   "cell_type": "code",
   "execution_count": 223,
   "metadata": {},
   "outputs": [
    {
     "data": {
      "text/plain": [
       "<matplotlib.legend.Legend at 0x2e20f2b8ac8>"
      ]
     },
     "execution_count": 223,
     "metadata": {},
     "output_type": "execute_result"
    },
    {
     "data": {
      "image/png": "[encoded data removed]",
      "text/plain": [
       "<Figure size 432x288 with 1 Axes>"
      ]
     },
     "metadata": {
      "needs_background": "light"
     },
     "output_type": "display_data"
    }
   ],
   "source": [
    "plt.plot(np.linspace(-2,2,100),[1/2*(abs(x)<=1) for x in np.linspace(-2,2,100)],label='Kernel 1',color='g')\n",
    "plt.plot(np.linspace(-2,2,100),[1/sqrt(2*pi)*exp(-x**2/2) for x in np.linspace(-2,2,100)],label='Normal',color='r')\n",
    "plt.plot(np.linspace(-2,2,100),[3/4*(1-x**2)*(abs(x)<=1) for x in np.linspace(-2,2,100)],label='Cuadratico',color='orange')\n",
    "plt.plot(np.linspace(-2,2,100),[70/81*(1-abs(x)**3)**3*(abs(x)<=1) for x in np.linspace(-2,2,100)],label='Cubico',color='pink')\n",
    "\n",
    "plt.legend()"
   ]
  },
  {
   "cell_type": "code",
   "execution_count": 224,
   "metadata": {},
   "outputs": [],
   "source": [
    "K = lambda x: 1/sqrt(2*pi)*exp(-x**2/2)"
   ]
  },
  {
   "cell_type": "code",
   "execution_count": 257,
   "metadata": {},
   "outputs": [],
   "source": [
    "h = 2.1\n",
    "fn = lambda x:(1/n)*sum([(1/h)*K((x-X[i])/h) for i in range(n)]) "
   ]
  },
  {
   "cell_type": "code",
   "execution_count": 259,
   "metadata": {},
   "outputs": [
    {
     "data": {
      "image/png": "[encoded data removed]",
      "text/plain": [
       "<Figure size 432x288 with 1 Axes>"
      ]
     },
     "metadata": {
      "needs_background": "light"
     },
     "output_type": "display_data"
    }
   ],
   "source": [
    "plt.plot(np.linspace(a,b,200),[fn(x) for x in np.linspace(a,b,200)],color='red',lw=2)\n",
    "Histograma(50)"
   ]
  },
  {
   "cell_type": "code",
   "execution_count": 235,
   "metadata": {},
   "outputs": [],
   "source": [
    "K_star = lambda x: 1/sqrt(2*pi)*exp(-x**2/(2*2)) - 2*K(x)\n",
    "J = lambda h: 1/(h*n**2)*sum([sum([K_star((X[i]-X[j])/h) for i in range(n)]) for i in range(n)])+2/(n*h)*K(0)"
   ]
  },
  {
   "cell_type": "code",
   "execution_count": 256,
   "metadata": {},
   "outputs": [
    {
     "data": {
      "text/plain": [
       "[<matplotlib.lines.Line2D at 0x2e21575c128>]"
      ]
     },
     "execution_count": 256,
     "metadata": {},
     "output_type": "execute_result"
    },
    {
     "data": {
      "image/png": "[encoded data removed]",
      "text/plain": [
       "<Figure size 432x288 with 1 Axes>"
      ]
     },
     "metadata": {
      "needs_background": "light"
     },
     "output_type": "display_data"
    }
   ],
   "source": [
    "plt.plot(np.linspace(0.5,10),[J(h) for h in np.linspace(0.5,10)])"
   ]
  },
  {
   "cell_type": "code",
   "execution_count": 262,
   "metadata": {},
   "outputs": [],
   "source": [
    "from ipywidgets import interact, interactive, fixed, interact_manual\n",
    "import ipywidgets as widgets"
   ]
  },
  {
   "cell_type": "code",
   "execution_count": 269,
   "metadata": {},
   "outputs": [
    {
     "data": {
      "application/vnd.jupyter.widget-view+json": {
       "model_id": "ed139e22b43c4142a82bec027b8024df",
       "version_major": 2,
       "version_minor": 0
      },
      "text/plain": [
       "interactive(children=(FloatSlider(value=2.1, continuous_update=False, description='h:', max=8.0, readout_forma…"
      ]
     },
     "metadata": {},
     "output_type": "display_data"
    }
   ],
   "source": [
    "@interact(h=widgets.FloatSlider(\n",
    "    value=2.1,\n",
    "    min=0,\n",
    "    max=8,\n",
    "    step=0.1,\n",
    "    description='h:',\n",
    "    disabled=False,\n",
    "    continuous_update=False,\n",
    "    orientation='horizontal',\n",
    "    readout=True,\n",
    "    readout_format='.1f',\n",
    "))\n",
    "def Suavizamiento(h):\n",
    "    fn = lambda x:(1/n)*sum([(1/h)*K((x-X[i])/h) for i in range(n)]) \n",
    "    plt.plot(np.linspace(a,b,200),[fn(x) for x in np.linspace(a,b,200)],color='red',lw=2)"
   ]
  },
  {
   "cell_type": "code",
   "execution_count": 278,
   "metadata": {},
   "outputs": [
    {
     "data": {
      "application/vnd.jupyter.widget-view+json": {
       "model_id": "fe97677711a24e039b4d6456c5524d2d",
       "version_major": 2,
       "version_minor": 0
      },
      "text/plain": [
       "interactive(children=(IntSlider(value=50, continuous_update=False, description='m:', max=200, min=5), FloatSli…"
      ]
     },
     "metadata": {},
     "output_type": "display_data"
    }
   ],
   "source": [
    "@interact(m=widgets.IntSlider(\n",
    "    value=50,\n",
    "    min=5,\n",
    "    max=200,\n",
    "    step=1,\n",
    "    description='m:',\n",
    "    disabled=False,\n",
    "    continuous_update=False,\n",
    "    orientation='horizontal',\n",
    "    readout=True,\n",
    "    readout_format='d'\n",
    "),h=widgets.FloatSlider(\n",
    "    value=2.1,\n",
    "    min=0,\n",
    "    max=8,\n",
    "    step=0.1,\n",
    "    description='h:',\n",
    "    disabled=False,\n",
    "    continuous_update=False,\n",
    "    orientation='horizontal',\n",
    "    readout=True,\n",
    "    readout_format='.1f',\n",
    "))\n",
    "def Histograma(m,h):\n",
    "    H = (b-a)/m\n",
    "    Y=[]\n",
    "    p = []\n",
    "    for j in range(m):\n",
    "        Y.append(len([x for x in X if x>=j*(b-a)/m and x<(j+1)*(b-a)/m]))\n",
    "        p.append(len([x for x in X if x>=j*(b-a)/m and x<(j+1)*(b-a)/m])/n)\n",
    "    fn = lambda x: sum([p[j]/H*(x>=j*(b-a)/m and x<(j+1)*(b-a)/m) for j in range(m)])\n",
    "    plt.step(np.linspace(a,b),[fn(x) for x in np.linspace(a,b)],color='black')\n",
    "    fn = lambda x:(1/n)*sum([(1/h)*K((x-X[i])/h) for i in range(n)]) \n",
    "    plt.plot(np.linspace(a,b,200),[fn(x) for x in np.linspace(a,b,200)],color='red',lw=2)"
   ]
  }
 ],
 "metadata": {
  "kernelspec": {
   "display_name": "Python 3",
   "language": "python",
   "name": "python3"
  },
  "language_info": {
   "codemirror_mode": {
    "name": "ipython",
    "version": 3
   },
   "file_extension": ".py",
   "mimetype": "text/x-python",
   "name": "python",
   "nbconvert_exporter": "python",
   "pygments_lexer": "ipython3",
   "version": "3.7.3"
  }
 },
 "nbformat": 4,
 "nbformat_minor": 2
}
