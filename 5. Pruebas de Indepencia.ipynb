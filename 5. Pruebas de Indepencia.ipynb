{
 "cells": [
  {
   "cell_type": "code",
   "execution_count": 211,
   "metadata": {},
   "outputs": [
    {
     "ename": "ImportError",
     "evalue": "cannot import name 'display' from 'html' (C:\\Users\\Alejandro\\Anaconda3\\lib\\html\\__init__.py)",
     "output_type": "error",
     "traceback": [
      "\u001b[1;31m---------------------------------------------------------------------------\u001b[0m",
      "\u001b[1;31mImportError\u001b[0m                               Traceback (most recent call last)",
      "\u001b[1;32m<ipython-input-211-a23b3c2ff7f9>\u001b[0m in \u001b[0;36m<module>\u001b[1;34m\u001b[0m\n\u001b[0;32m      4\u001b[0m \u001b[1;32mimport\u001b[0m \u001b[0mscipy\u001b[0m\u001b[1;33m.\u001b[0m\u001b[0mstats\u001b[0m \u001b[1;32mas\u001b[0m \u001b[0msts\u001b[0m\u001b[1;33m\u001b[0m\u001b[1;33m\u001b[0m\u001b[0m\n\u001b[0;32m      5\u001b[0m \u001b[1;32mimport\u001b[0m \u001b[0mpandas\u001b[0m \u001b[1;32mas\u001b[0m \u001b[0mpd\u001b[0m\u001b[1;33m\u001b[0m\u001b[1;33m\u001b[0m\u001b[0m\n\u001b[1;32m----> 6\u001b[1;33m \u001b[1;32mfrom\u001b[0m \u001b[0mhtml\u001b[0m \u001b[1;32mimport\u001b[0m \u001b[0mdisplay\u001b[0m\u001b[1;33m\u001b[0m\u001b[1;33m\u001b[0m\u001b[0m\n\u001b[0m\u001b[0;32m      7\u001b[0m \u001b[0mget_ipython\u001b[0m\u001b[1;33m(\u001b[0m\u001b[1;33m)\u001b[0m\u001b[1;33m.\u001b[0m\u001b[0mrun_line_magic\u001b[0m\u001b[1;33m(\u001b[0m\u001b[1;34m'matplotlib'\u001b[0m\u001b[1;33m,\u001b[0m \u001b[1;34m'inline'\u001b[0m\u001b[1;33m)\u001b[0m\u001b[1;33m\u001b[0m\u001b[1;33m\u001b[0m\u001b[0m\n",
      "\u001b[1;31mImportError\u001b[0m: cannot import name 'display' from 'html' (C:\\Users\\Alejandro\\Anaconda3\\lib\\html\\__init__.py)"
     ]
    }
   ],
   "source": [
    "import numpy as np\n",
    "import matplotlib.pylab as plt\n",
    "from math import exp,log,sqrt,pi,sin\n",
    "import scipy.stats as sts\n",
    "import pandas as pd\n",
    "%matplotlib inline"
   ]
  },
  {
   "cell_type": "markdown",
   "metadata": {},
   "source": [
    "## Prueba de Kendall"
   ]
  },
  {
   "cell_type": "code",
   "execution_count": 2,
   "metadata": {},
   "outputs": [],
   "source": [
    "Q = lambda A,B:((B[1]-A[1])*(B[0]-A[0])>0)*1+((B[1]-A[1])*(B[0]-A[0])<0)*-1"
   ]
  },
  {
   "cell_type": "code",
   "execution_count": 3,
   "metadata": {},
   "outputs": [],
   "source": [
    "X = np.random.uniform(0,1,200)\n",
    "u =np.random.choice([0,1],200)\n",
    "Y = (np.random.normal(0,0.5,200)-5*X)*u+(np.random.normal(0,0.5,200)+5*X)*(1-u)\n",
    "n = len(X)"
   ]
  },
  {
   "cell_type": "code",
   "execution_count": 8,
   "metadata": {},
   "outputs": [
    {
     "data": {
      "text/plain": [
       "[0.8126094297594407, -4.180861346418206]"
      ]
     },
     "execution_count": 8,
     "metadata": {},
     "output_type": "execute_result"
    }
   ],
   "source": [
    "[X[2],Y[2]]"
   ]
  },
  {
   "cell_type": "code",
   "execution_count": 14,
   "metadata": {},
   "outputs": [
    {
     "data": {
      "text/plain": [
       "[<matplotlib.lines.Line2D at 0x2640f307ba8>]"
      ]
     },
     "execution_count": 14,
     "metadata": {},
     "output_type": "execute_result"
    },
    {
     "data": {
      "image/png": "[encoded data removed]",
      "text/plain": [
       "<Figure size 432x288 with 1 Axes>"
      ]
     },
     "metadata": {
      "needs_background": "light"
     },
     "output_type": "display_data"
    }
   ],
   "source": [
    "plt.scatter(X,Y)\n",
    "plt.plot([X[2],X[2]],[Y[2],0])"
   ]
  },
  {
   "cell_type": "code",
   "execution_count": 15,
   "metadata": {},
   "outputs": [
    {
     "data": {
      "text/plain": [
       "-1.5745391852881327"
      ]
     },
     "execution_count": 15,
     "metadata": {},
     "output_type": "execute_result"
    }
   ],
   "source": [
    "K = sum([sum([Q([X[i],Y[i]],[X[j],Y[j]]) for j in range(i+1,n)]) for i in range(n-1)])\n",
    "K0 = K/sqrt(n*(n-1)*(2*n+5)/18)\n",
    "K0"
   ]
  },
  {
   "cell_type": "code",
   "execution_count": 75,
   "metadata": {
    "scrolled": true
   },
   "outputs": [
    {
     "data": {
      "text/plain": [
       "2.1700903775845606"
      ]
     },
     "execution_count": 75,
     "metadata": {},
     "output_type": "execute_result"
    }
   ],
   "source": [
    "-sts.norm.ppf(0.015)"
   ]
  },
  {
   "cell_type": "markdown",
   "metadata": {},
   "source": [
    "## Prueba de Spearman\n",
    "$r_s=\\frac{12\\sum_{i=1}^{n}(R_i-\\frac{n+1}{2})(S_i-\\frac{n+1}{2})}{n(n^2-1)}$ $r^*=\\sqrt{n-1}r_s$"
   ]
  },
  {
   "cell_type": "code",
   "execution_count": 17,
   "metadata": {},
   "outputs": [],
   "source": [
    "import pandas as pd"
   ]
  },
  {
   "cell_type": "code",
   "execution_count": 326,
   "metadata": {},
   "outputs": [
    {
     "name": "stdout",
     "output_type": "stream",
     "text": [
      "0.2484650994755263\n"
     ]
    },
    {
     "data": {
      "image/png": "[encoded data removed]",
      "text/plain": [
       "<Figure size 432x288 with 1 Axes>"
      ]
     },
     "metadata": {
      "needs_background": "light"
     },
     "output_type": "display_data"
    }
   ],
   "source": [
    "n =1000\n",
    "tabla = pd.DataFrame(columns=['X','Y','R','S'],index=range(1,n+1))\n",
    "tabla['X'] = np.random.uniform(0,1,n)\n",
    "tabla['Y'] = np.random.normal(0,0.1,n)\n",
    "tabla = tabla.sort_values(['X'])\n",
    "tabla['R'] = range(1,n+1)\n",
    "tabla = tabla.sort_values(['Y'])\n",
    "tabla['S'] = range(1,n+1)\n",
    "tabla.sort_index()\n",
    "rs = 12*((tabla.R - (n+1)/2)*(tabla.S - (n+1)/2)).sum()/(n*(n**2-1))\n",
    "r0 = sqrt(n-1)*rs\n",
    "plt.scatter(tabla['X'],tabla['Y'],s=4)\n",
    "print(r0)"
   ]
  },
  {
   "cell_type": "markdown",
   "metadata": {},
   "source": [
    "## Prueba de Hoeffding"
   ]
  },
  {
   "cell_type": "code",
   "execution_count": 325,
   "metadata": {},
   "outputs": [
    {
     "data": {
      "text/plain": [
       "-0.16895013533021355"
      ]
     },
     "execution_count": 325,
     "metadata": {},
     "output_type": "execute_result"
    }
   ],
   "source": [
    "n = 1000\n",
    "tabla = pd.DataFrame(columns=['X','Y','R','S','c'],index=range(1,n+1))\n",
    "tabla['X'] = np.random.uniform(0,1,n)\n",
    "tabla['Y'] = np.random.normal(0,0.1,n)\n",
    "tabla = tabla.sort_values(['X'])\n",
    "tabla['R'] = range(1,n+1)\n",
    "tabla = tabla.sort_values(['Y'])\n",
    "tabla['S'] = range(1,n+1)\n",
    "tabla =tabla.sort_index()\n",
    "def c(i):\n",
    "    return(sum([1*(tabla['X'][i]<tabla['X'][j])*(tabla['Y'][i]<tabla['Y'][j]) for j in tabla.index]))\n",
    "tabla['c'] = [c(i) for i in range(1,n+1)]\n",
    "Q = sum((tabla.R-1)*(tabla.R-2)*(tabla.S-1)*(tabla.S-2))\n",
    "R = sum((tabla.R-2)*(tabla.S-2)*tabla.c)\n",
    "S = sum(tabla.c*(1-tabla.c))\n",
    "D = (Q-2*(n-2)*R+(n-2)*(n-3)*S)/(n*(n-1)*(n-2)*(n-3)*(n-4))\n",
    "D"
   ]
  }
 ],
 "metadata": {
  "kernelspec": {
   "display_name": "Python 3",
   "language": "python",
   "name": "python3"
  },
  "language_info": {
   "codemirror_mode": {
    "name": "ipython",
    "version": 3
   },
   "file_extension": ".py",
   "mimetype": "text/x-python",
   "name": "python",
   "nbconvert_exporter": "python",
   "pygments_lexer": "ipython3",
   "version": "3.7.3"
  }
 },
 "nbformat": 4,
 "nbformat_minor": 2
}
