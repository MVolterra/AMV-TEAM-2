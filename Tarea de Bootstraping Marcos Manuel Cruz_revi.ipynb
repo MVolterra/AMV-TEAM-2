{
 "cells": [
  {
   "cell_type": "markdown",
   "metadata": {},
   "source": [
    "## **Ejercicio CoVid-19**"
   ]
  },
  {
   "cell_type": "markdown",
   "metadata": {},
   "source": [
    "**Definicion de librerias**"
   ]
  },
  {
   "cell_type": "code",
   "execution_count": 1,
   "metadata": {},
   "outputs": [],
   "source": [
    "import numpy as np\n",
    "import matplotlib.pylab as plt\n",
    "from math import exp,log,sqrt,pi,sin\n",
    "import scipy.stats as sts\n",
    "import pandas as pd\n",
    "%matplotlib inline"
   ]
  },
  {
   "cell_type": "markdown",
   "metadata": {},
   "source": [
    "**Importacion de datos y limpieza**"
   ]
  },
  {
   "cell_type": "code",
   "execution_count": 2,
   "metadata": {},
   "outputs": [],
   "source": [
    "ruta = 'C:/Users/1063949520/Marcos/Tareas_Estadistica/'\n",
    "nombre='200503COVID19MEXICO.csv'\n",
    "df = pd.read_csv(ruta+nombre,encoding=\"iso-8859-1\").reset_index(drop=True)"
   ]
  },
  {
   "cell_type": "code",
   "execution_count": 3,
   "metadata": {},
   "outputs": [
    {
     "data": {
      "text/plain": [
       "(95839, 35)"
      ]
     },
     "execution_count": 3,
     "metadata": {},
     "output_type": "execute_result"
    }
   ],
   "source": [
    "df.shape"
   ]
  },
  {
   "cell_type": "code",
   "execution_count": 4,
   "metadata": {},
   "outputs": [
    {
     "data": {
      "text/html": [
       "<div>\n",
       "<style scoped>\n",
       "    .dataframe tbody tr th:only-of-type {\n",
       "        vertical-align: middle;\n",
       "    }\n",
       "\n",
       "    .dataframe tbody tr th {\n",
       "        vertical-align: top;\n",
       "    }\n",
       "\n",
       "    .dataframe thead th {\n",
       "        text-align: right;\n",
       "    }\n",
       "</style>\n",
       "<table border=\"1\" class=\"dataframe\">\n",
       "  <thead>\n",
       "    <tr style=\"text-align: right;\">\n",
       "      <th></th>\n",
       "      <th>FECHA_ACTUALIZACION</th>\n",
       "      <th>ID_REGISTRO</th>\n",
       "      <th>ORIGEN</th>\n",
       "      <th>SECTOR</th>\n",
       "      <th>ENTIDAD_UM</th>\n",
       "      <th>SEXO</th>\n",
       "      <th>ENTIDAD_NAC</th>\n",
       "      <th>ENTIDAD_RES</th>\n",
       "      <th>MUNICIPIO_RES</th>\n",
       "      <th>TIPO_PACIENTE</th>\n",
       "      <th>...</th>\n",
       "      <th>CARDIOVASCULAR</th>\n",
       "      <th>OBESIDAD</th>\n",
       "      <th>RENAL_CRONICA</th>\n",
       "      <th>TABAQUISMO</th>\n",
       "      <th>OTRO_CASO</th>\n",
       "      <th>RESULTADO</th>\n",
       "      <th>MIGRANTE</th>\n",
       "      <th>PAIS_NACIONALIDAD</th>\n",
       "      <th>PAIS_ORIGEN</th>\n",
       "      <th>UCI</th>\n",
       "    </tr>\n",
       "  </thead>\n",
       "  <tbody>\n",
       "    <tr>\n",
       "      <th>0</th>\n",
       "      <td>2020-05-03</td>\n",
       "      <td>134d54</td>\n",
       "      <td>1</td>\n",
       "      <td>4</td>\n",
       "      <td>17</td>\n",
       "      <td>2</td>\n",
       "      <td>17</td>\n",
       "      <td>17</td>\n",
       "      <td>6</td>\n",
       "      <td>1</td>\n",
       "      <td>...</td>\n",
       "      <td>2</td>\n",
       "      <td>2</td>\n",
       "      <td>2</td>\n",
       "      <td>2</td>\n",
       "      <td>99</td>\n",
       "      <td>1</td>\n",
       "      <td>99</td>\n",
       "      <td>MÃ©xico</td>\n",
       "      <td>99</td>\n",
       "      <td>97</td>\n",
       "    </tr>\n",
       "    <tr>\n",
       "      <th>1</th>\n",
       "      <td>2020-05-03</td>\n",
       "      <td>05f125</td>\n",
       "      <td>1</td>\n",
       "      <td>4</td>\n",
       "      <td>9</td>\n",
       "      <td>1</td>\n",
       "      <td>9</td>\n",
       "      <td>9</td>\n",
       "      <td>15</td>\n",
       "      <td>1</td>\n",
       "      <td>...</td>\n",
       "      <td>2</td>\n",
       "      <td>2</td>\n",
       "      <td>2</td>\n",
       "      <td>2</td>\n",
       "      <td>99</td>\n",
       "      <td>1</td>\n",
       "      <td>99</td>\n",
       "      <td>MÃ©xico</td>\n",
       "      <td>99</td>\n",
       "      <td>97</td>\n",
       "    </tr>\n",
       "    <tr>\n",
       "      <th>2</th>\n",
       "      <td>2020-05-03</td>\n",
       "      <td>0d2268</td>\n",
       "      <td>1</td>\n",
       "      <td>4</td>\n",
       "      <td>2</td>\n",
       "      <td>2</td>\n",
       "      <td>25</td>\n",
       "      <td>2</td>\n",
       "      <td>2</td>\n",
       "      <td>2</td>\n",
       "      <td>...</td>\n",
       "      <td>2</td>\n",
       "      <td>1</td>\n",
       "      <td>2</td>\n",
       "      <td>2</td>\n",
       "      <td>99</td>\n",
       "      <td>1</td>\n",
       "      <td>99</td>\n",
       "      <td>MÃ©xico</td>\n",
       "      <td>99</td>\n",
       "      <td>2</td>\n",
       "    </tr>\n",
       "    <tr>\n",
       "      <th>3</th>\n",
       "      <td>2020-05-03</td>\n",
       "      <td>063132</td>\n",
       "      <td>1</td>\n",
       "      <td>4</td>\n",
       "      <td>9</td>\n",
       "      <td>2</td>\n",
       "      <td>9</td>\n",
       "      <td>9</td>\n",
       "      <td>15</td>\n",
       "      <td>2</td>\n",
       "      <td>...</td>\n",
       "      <td>2</td>\n",
       "      <td>2</td>\n",
       "      <td>2</td>\n",
       "      <td>2</td>\n",
       "      <td>99</td>\n",
       "      <td>1</td>\n",
       "      <td>99</td>\n",
       "      <td>MÃ©xico</td>\n",
       "      <td>99</td>\n",
       "      <td>2</td>\n",
       "    </tr>\n",
       "    <tr>\n",
       "      <th>4</th>\n",
       "      <td>2020-05-03</td>\n",
       "      <td>0c0bda</td>\n",
       "      <td>1</td>\n",
       "      <td>12</td>\n",
       "      <td>14</td>\n",
       "      <td>1</td>\n",
       "      <td>14</td>\n",
       "      <td>14</td>\n",
       "      <td>39</td>\n",
       "      <td>2</td>\n",
       "      <td>...</td>\n",
       "      <td>2</td>\n",
       "      <td>2</td>\n",
       "      <td>2</td>\n",
       "      <td>2</td>\n",
       "      <td>2</td>\n",
       "      <td>2</td>\n",
       "      <td>99</td>\n",
       "      <td>MÃ©xico</td>\n",
       "      <td>99</td>\n",
       "      <td>2</td>\n",
       "    </tr>\n",
       "  </tbody>\n",
       "</table>\n",
       "<p>5 rows × 35 columns</p>\n",
       "</div>"
      ],
      "text/plain": [
       "  FECHA_ACTUALIZACION ID_REGISTRO  ORIGEN  SECTOR  ENTIDAD_UM  SEXO  \\\n",
       "0          2020-05-03      134d54       1       4          17     2   \n",
       "1          2020-05-03      05f125       1       4           9     1   \n",
       "2          2020-05-03      0d2268       1       4           2     2   \n",
       "3          2020-05-03      063132       1       4           9     2   \n",
       "4          2020-05-03      0c0bda       1      12          14     1   \n",
       "\n",
       "   ENTIDAD_NAC  ENTIDAD_RES  MUNICIPIO_RES  TIPO_PACIENTE  ... CARDIOVASCULAR  \\\n",
       "0           17           17              6              1  ...              2   \n",
       "1            9            9             15              1  ...              2   \n",
       "2           25            2              2              2  ...              2   \n",
       "3            9            9             15              2  ...              2   \n",
       "4           14           14             39              2  ...              2   \n",
       "\n",
       "  OBESIDAD RENAL_CRONICA  TABAQUISMO  OTRO_CASO  RESULTADO  MIGRANTE  \\\n",
       "0        2             2           2         99          1        99   \n",
       "1        2             2           2         99          1        99   \n",
       "2        1             2           2         99          1        99   \n",
       "3        2             2           2         99          1        99   \n",
       "4        2             2           2          2          2        99   \n",
       "\n",
       "   PAIS_NACIONALIDAD  PAIS_ORIGEN  UCI  \n",
       "0            MÃ©xico           99   97  \n",
       "1            MÃ©xico           99   97  \n",
       "2            MÃ©xico           99    2  \n",
       "3            MÃ©xico           99    2  \n",
       "4            MÃ©xico           99    2  \n",
       "\n",
       "[5 rows x 35 columns]"
      ]
     },
     "execution_count": 4,
     "metadata": {},
     "output_type": "execute_result"
    }
   ],
   "source": [
    "df.head()"
   ]
  },
  {
   "cell_type": "code",
   "execution_count": 5,
   "metadata": {},
   "outputs": [
    {
     "data": {
      "text/plain": [
       "0"
      ]
     },
     "execution_count": 5,
     "metadata": {},
     "output_type": "execute_result"
    }
   ],
   "source": [
    "##Valores duplicados \n",
    "df.duplicated().sum()\n",
    "##No hay duplicados!"
   ]
  },
  {
   "cell_type": "markdown",
   "metadata": {},
   "source": [
    "**Analisis descriptivo de los datos**"
   ]
  },
  {
   "cell_type": "code",
   "execution_count": 6,
   "metadata": {
    "scrolled": false
   },
   "outputs": [
    {
     "data": {
      "text/html": [
       "<div>\n",
       "<style scoped>\n",
       "    .dataframe tbody tr th:only-of-type {\n",
       "        vertical-align: middle;\n",
       "    }\n",
       "\n",
       "    .dataframe tbody tr th {\n",
       "        vertical-align: top;\n",
       "    }\n",
       "\n",
       "    .dataframe thead th {\n",
       "        text-align: right;\n",
       "    }\n",
       "</style>\n",
       "<table border=\"1\" class=\"dataframe\">\n",
       "  <thead>\n",
       "    <tr style=\"text-align: right;\">\n",
       "      <th></th>\n",
       "      <th>TIPO_PACIENTE</th>\n",
       "      <th>EDAD</th>\n",
       "      <th>SEXO</th>\n",
       "      <th>RESULTADO</th>\n",
       "      <th>ENTIDAD_RES</th>\n",
       "      <th>ENTIDAD_UM</th>\n",
       "    </tr>\n",
       "  </thead>\n",
       "  <tbody>\n",
       "    <tr>\n",
       "      <th>count</th>\n",
       "      <td>95839.000000</td>\n",
       "      <td>95839.000000</td>\n",
       "      <td>95839.000000</td>\n",
       "      <td>95839.000000</td>\n",
       "      <td>95839.000000</td>\n",
       "      <td>95839.000000</td>\n",
       "    </tr>\n",
       "    <tr>\n",
       "      <th>mean</th>\n",
       "      <td>1.266812</td>\n",
       "      <td>42.052734</td>\n",
       "      <td>1.508353</td>\n",
       "      <td>1.887238</td>\n",
       "      <td>14.897620</td>\n",
       "      <td>14.660639</td>\n",
       "    </tr>\n",
       "    <tr>\n",
       "      <th>std</th>\n",
       "      <td>0.442296</td>\n",
       "      <td>17.318496</td>\n",
       "      <td>0.499933</td>\n",
       "      <td>0.603595</td>\n",
       "      <td>8.006973</td>\n",
       "      <td>8.075045</td>\n",
       "    </tr>\n",
       "    <tr>\n",
       "      <th>min</th>\n",
       "      <td>1.000000</td>\n",
       "      <td>0.000000</td>\n",
       "      <td>1.000000</td>\n",
       "      <td>1.000000</td>\n",
       "      <td>1.000000</td>\n",
       "      <td>1.000000</td>\n",
       "    </tr>\n",
       "    <tr>\n",
       "      <th>25%</th>\n",
       "      <td>1.000000</td>\n",
       "      <td>30.000000</td>\n",
       "      <td>1.000000</td>\n",
       "      <td>2.000000</td>\n",
       "      <td>9.000000</td>\n",
       "      <td>9.000000</td>\n",
       "    </tr>\n",
       "    <tr>\n",
       "      <th>50%</th>\n",
       "      <td>1.000000</td>\n",
       "      <td>41.000000</td>\n",
       "      <td>2.000000</td>\n",
       "      <td>2.000000</td>\n",
       "      <td>14.000000</td>\n",
       "      <td>14.000000</td>\n",
       "    </tr>\n",
       "    <tr>\n",
       "      <th>75%</th>\n",
       "      <td>2.000000</td>\n",
       "      <td>53.000000</td>\n",
       "      <td>2.000000</td>\n",
       "      <td>2.000000</td>\n",
       "      <td>20.000000</td>\n",
       "      <td>20.000000</td>\n",
       "    </tr>\n",
       "    <tr>\n",
       "      <th>max</th>\n",
       "      <td>2.000000</td>\n",
       "      <td>113.000000</td>\n",
       "      <td>2.000000</td>\n",
       "      <td>3.000000</td>\n",
       "      <td>32.000000</td>\n",
       "      <td>32.000000</td>\n",
       "    </tr>\n",
       "  </tbody>\n",
       "</table>\n",
       "</div>"
      ],
      "text/plain": [
       "       TIPO_PACIENTE          EDAD          SEXO     RESULTADO   ENTIDAD_RES  \\\n",
       "count   95839.000000  95839.000000  95839.000000  95839.000000  95839.000000   \n",
       "mean        1.266812     42.052734      1.508353      1.887238     14.897620   \n",
       "std         0.442296     17.318496      0.499933      0.603595      8.006973   \n",
       "min         1.000000      0.000000      1.000000      1.000000      1.000000   \n",
       "25%         1.000000     30.000000      1.000000      2.000000      9.000000   \n",
       "50%         1.000000     41.000000      2.000000      2.000000     14.000000   \n",
       "75%         2.000000     53.000000      2.000000      2.000000     20.000000   \n",
       "max         2.000000    113.000000      2.000000      3.000000     32.000000   \n",
       "\n",
       "         ENTIDAD_UM  \n",
       "count  95839.000000  \n",
       "mean      14.660639  \n",
       "std        8.075045  \n",
       "min        1.000000  \n",
       "25%        9.000000  \n",
       "50%       14.000000  \n",
       "75%       20.000000  \n",
       "max       32.000000  "
      ]
     },
     "execution_count": 6,
     "metadata": {},
     "output_type": "execute_result"
    },
    {
     "data": {
      "image/png": "[encoded data removed]",
      "text/plain": [
       "<Figure size 1440x1080 with 6 Axes>"
      ]
     },
     "metadata": {
      "needs_background": "light"
     },
     "output_type": "display_data"
    }
   ],
   "source": [
    "var = ['TIPO_PACIENTE','EDAD','SEXO','RESULTADO','ENTIDAD_RES','ENTIDAD_UM']\n",
    "X=df[var].copy()\n",
    "X.hist(bins=15, figsize=(20,15))\n",
    "X.describe()\n",
    "##Las distribuciones de la entidad donde residen es similar a la de entidad donde se atienden , 97% se atienden donde residen"
   ]
  },
  {
   "cell_type": "markdown",
   "metadata": {},
   "source": [
    "**Filtro para Personas Diagnosticadas**"
   ]
  },
  {
   "cell_type": "code",
   "execution_count": 7,
   "metadata": {},
   "outputs": [],
   "source": [
    "X=X.loc[X['RESULTADO']==1]"
   ]
  },
  {
   "cell_type": "markdown",
   "metadata": {},
   "source": [
    "**Lista de DATOS para analizar**"
   ]
  },
  {
   "cell_type": "code",
   "execution_count": 8,
   "metadata": {},
   "outputs": [],
   "source": [
    "X.reset_index(drop=True,inplace=True)"
   ]
  },
  {
   "cell_type": "code",
   "execution_count": 9,
   "metadata": {},
   "outputs": [
    {
     "data": {
      "text/plain": [
       "(23471, 6)"
      ]
     },
     "execution_count": 9,
     "metadata": {},
     "output_type": "execute_result"
    }
   ],
   "source": [
    "X.shape"
   ]
  },
  {
   "cell_type": "code",
   "execution_count": 10,
   "metadata": {},
   "outputs": [
    {
     "data": {
      "text/html": [
       "<div>\n",
       "<style scoped>\n",
       "    .dataframe tbody tr th:only-of-type {\n",
       "        vertical-align: middle;\n",
       "    }\n",
       "\n",
       "    .dataframe tbody tr th {\n",
       "        vertical-align: top;\n",
       "    }\n",
       "\n",
       "    .dataframe thead th {\n",
       "        text-align: right;\n",
       "    }\n",
       "</style>\n",
       "<table border=\"1\" class=\"dataframe\">\n",
       "  <thead>\n",
       "    <tr style=\"text-align: right;\">\n",
       "      <th></th>\n",
       "      <th>TIPO_PACIENTE</th>\n",
       "      <th>EDAD</th>\n",
       "      <th>SEXO</th>\n",
       "      <th>RESULTADO</th>\n",
       "      <th>ENTIDAD_RES</th>\n",
       "      <th>ENTIDAD_UM</th>\n",
       "    </tr>\n",
       "  </thead>\n",
       "  <tbody>\n",
       "    <tr>\n",
       "      <th>0</th>\n",
       "      <td>1</td>\n",
       "      <td>42</td>\n",
       "      <td>2</td>\n",
       "      <td>1</td>\n",
       "      <td>17</td>\n",
       "      <td>17</td>\n",
       "    </tr>\n",
       "    <tr>\n",
       "      <th>1</th>\n",
       "      <td>1</td>\n",
       "      <td>51</td>\n",
       "      <td>1</td>\n",
       "      <td>1</td>\n",
       "      <td>9</td>\n",
       "      <td>9</td>\n",
       "    </tr>\n",
       "    <tr>\n",
       "      <th>2</th>\n",
       "      <td>2</td>\n",
       "      <td>51</td>\n",
       "      <td>2</td>\n",
       "      <td>1</td>\n",
       "      <td>2</td>\n",
       "      <td>2</td>\n",
       "    </tr>\n",
       "    <tr>\n",
       "      <th>3</th>\n",
       "      <td>2</td>\n",
       "      <td>57</td>\n",
       "      <td>2</td>\n",
       "      <td>1</td>\n",
       "      <td>9</td>\n",
       "      <td>9</td>\n",
       "    </tr>\n",
       "    <tr>\n",
       "      <th>4</th>\n",
       "      <td>1</td>\n",
       "      <td>55</td>\n",
       "      <td>2</td>\n",
       "      <td>1</td>\n",
       "      <td>3</td>\n",
       "      <td>3</td>\n",
       "    </tr>\n",
       "  </tbody>\n",
       "</table>\n",
       "</div>"
      ],
      "text/plain": [
       "   TIPO_PACIENTE  EDAD  SEXO  RESULTADO  ENTIDAD_RES  ENTIDAD_UM\n",
       "0              1    42     2          1           17          17\n",
       "1              1    51     1          1            9           9\n",
       "2              2    51     2          1            2           2\n",
       "3              2    57     2          1            9           9\n",
       "4              1    55     2          1            3           3"
      ]
     },
     "execution_count": 10,
     "metadata": {},
     "output_type": "execute_result"
    }
   ],
   "source": [
    "X.head()"
   ]
  },
  {
   "cell_type": "code",
   "execution_count": 11,
   "metadata": {},
   "outputs": [],
   "source": [
    "n=len(X['TIPO_PACIENTE'])"
   ]
  },
  {
   "cell_type": "code",
   "execution_count": 12,
   "metadata": {},
   "outputs": [
    {
     "data": {
      "text/plain": [
       "23471"
      ]
     },
     "execution_count": 12,
     "metadata": {},
     "output_type": "execute_result"
    }
   ],
   "source": [
    "n"
   ]
  },
  {
   "cell_type": "code",
   "execution_count": 13,
   "metadata": {},
   "outputs": [],
   "source": [
    "X['Flag_Hosp_25_40']= ((X['TIPO_PACIENTE']==2) & (X['EDAD']>=25) & (X['EDAD']<=40))*1\n",
    "X['Flag_total_25_40']= ((X['EDAD']>=25) & (X['EDAD']<=40))*1"
   ]
  },
  {
   "cell_type": "code",
   "execution_count": 14,
   "metadata": {},
   "outputs": [
    {
     "data": {
      "text/plain": [
       "(23471, 8)"
      ]
     },
     "execution_count": 14,
     "metadata": {},
     "output_type": "execute_result"
    }
   ],
   "source": [
    "X.shape"
   ]
  },
  {
   "cell_type": "code",
   "execution_count": 15,
   "metadata": {},
   "outputs": [
    {
     "data": {
      "text/plain": [
       "1613"
      ]
     },
     "execution_count": 15,
     "metadata": {},
     "output_type": "execute_result"
    }
   ],
   "source": [
    "##Numero de individuos diagnosticados con SARS-CoV-2 con edad entre 25 y 40 años y hospitalizados\n",
    "X['Flag_Hosp_25_40'].sum(axis=0)"
   ]
  },
  {
   "cell_type": "code",
   "execution_count": 16,
   "metadata": {},
   "outputs": [
    {
     "data": {
      "text/plain": [
       "7552"
      ]
     },
     "execution_count": 16,
     "metadata": {},
     "output_type": "execute_result"
    }
   ],
   "source": [
    "##Numero TOTAL de individuos diagnosticados con SARS-CoV-2 con edad entre 25 y 40 años \n",
    "X['Flag_total_25_40'].sum(axis=0)"
   ]
  },
  {
   "cell_type": "markdown",
   "metadata": {},
   "source": [
    "**Definicion de los estadisticos**"
   ]
  },
  {
   "cell_type": "code",
   "execution_count": 17,
   "metadata": {},
   "outputs": [],
   "source": [
    "T= lambda x: np.median(x)"
   ]
  },
  {
   "cell_type": "code",
   "execution_count": 18,
   "metadata": {},
   "outputs": [],
   "source": [
    "T2= lambda x: x.mean()"
   ]
  },
  {
   "cell_type": "code",
   "execution_count": 19,
   "metadata": {},
   "outputs": [],
   "source": [
    "##Edad promedio de las personas diagnosticados con SARS-CoV-2##\n",
    "Prom_real_edad=T2(X['EDAD'])\n",
    "##Edad promedio de las personas diagnosticados con SARS-CoV-2 en la CDMX##\n",
    "X1=X.loc[X['ENTIDAD_RES']==9]\n",
    "PromCDMX_real_edad=T2(X1['EDAD'])\n",
    "##Edad promedio de las personas hospitalizadas por ser diagnosticados con SARS-CoV-2##\n",
    "X2=X.loc[X['TIPO_PACIENTE']==2]\n",
    "PromHOSP_real_edad=T2(X2['EDAD'])\n",
    "##Edad promedio de las mujeres hospitalizadas por ser diagnosticadas con SARS-CoV-2##\n",
    "X3=X.loc[(X['TIPO_PACIENTE']==2) & (X['SEXO']==1)]\n",
    "PromHOSP_real_edad_F=T2(X3['EDAD'])\n",
    "##La edad mediana de las personas diagnosticadas con SARS-CoV-2##\n",
    "Mediana_real_edad=T(X['EDAD'])\n",
    "##El cuantil 0.7 de la edad de las personas diagnosticadas con SARS-CoV-2 en la CDMX##\n",
    "alpha=0.7\n",
    "q_real=np.quantile(a=X1['EDAD'],q=alpha)\n",
    "##La probabilidad de que una persona diagnosticada con SARS-CoV-2 con edad entre 25 y 40 años sea hospitalizado\n",
    "probabilidad_hosp_real=(X['Flag_Hosp_25_40'].sum(axis=0))/(X['Flag_total_25_40'].sum(axis=0))"
   ]
  },
  {
   "cell_type": "code",
   "execution_count": 20,
   "metadata": {},
   "outputs": [
    {
     "data": {
      "text/html": [
       "<div>\n",
       "<style scoped>\n",
       "    .dataframe tbody tr th:only-of-type {\n",
       "        vertical-align: middle;\n",
       "    }\n",
       "\n",
       "    .dataframe tbody tr th {\n",
       "        vertical-align: top;\n",
       "    }\n",
       "\n",
       "    .dataframe thead th {\n",
       "        text-align: right;\n",
       "    }\n",
       "</style>\n",
       "<table border=\"1\" class=\"dataframe\">\n",
       "  <thead>\n",
       "    <tr style=\"text-align: right;\">\n",
       "      <th></th>\n",
       "      <th>0</th>\n",
       "    </tr>\n",
       "  </thead>\n",
       "  <tbody>\n",
       "    <tr>\n",
       "      <th>Edad_Promedio_SARS</th>\n",
       "      <td>46.514081</td>\n",
       "    </tr>\n",
       "    <tr>\n",
       "      <th>Edad_Promedio_SARS_CDMX</th>\n",
       "      <td>46.426056</td>\n",
       "    </tr>\n",
       "    <tr>\n",
       "      <th>Edad_Promedio_SARS_HOSP</th>\n",
       "      <td>53.481985</td>\n",
       "    </tr>\n",
       "    <tr>\n",
       "      <th>Edad_Promedio_SARS_MUJ_HOPS</th>\n",
       "      <td>54.107794</td>\n",
       "    </tr>\n",
       "    <tr>\n",
       "      <th>Edad_Mediana_SARS</th>\n",
       "      <td>46.000000</td>\n",
       "    </tr>\n",
       "    <tr>\n",
       "      <th>$q_{0.7}$</th>\n",
       "      <td>54.000000</td>\n",
       "    </tr>\n",
       "    <tr>\n",
       "      <th>Probabilidad_de_Hospitalizacion</th>\n",
       "      <td>0.213586</td>\n",
       "    </tr>\n",
       "  </tbody>\n",
       "</table>\n",
       "</div>"
      ],
      "text/plain": [
       "                                         0\n",
       "Edad_Promedio_SARS               46.514081\n",
       "Edad_Promedio_SARS_CDMX          46.426056\n",
       "Edad_Promedio_SARS_HOSP          53.481985\n",
       "Edad_Promedio_SARS_MUJ_HOPS      54.107794\n",
       "Edad_Mediana_SARS                46.000000\n",
       "$q_{0.7}$                        54.000000\n",
       "Probabilidad_de_Hospitalizacion   0.213586"
      ]
     },
     "metadata": {},
     "output_type": "display_data"
    }
   ],
   "source": [
    "display(pd.DataFrame([Prom_real_edad,PromCDMX_real_edad,PromHOSP_real_edad,PromHOSP_real_edad_F,Mediana_real_edad,q_real,probabilidad_hosp_real],index=['Edad_Promedio_SARS','Edad_Promedio_SARS_CDMX','Edad_Promedio_SARS_HOSP',\n",
    "                                                        'Edad_Promedio_SARS_MUJ_HOPS',\n",
    "                                                        'Edad_Mediana_SARS',\n",
    "                                                        '$q_{%s}$'%alpha,\n",
    "                                                        'Probabilidad_de_Hospitalizacion']))"
   ]
  },
  {
   "cell_type": "code",
   "execution_count": 21,
   "metadata": {
    "scrolled": false
   },
   "outputs": [
    {
     "data": {
      "text/plain": [
       "[<matplotlib.lines.Line2D at 0x1b75efdff48>]"
      ]
     },
     "execution_count": 21,
     "metadata": {},
     "output_type": "execute_result"
    },
    {
     "data": {
      "image/png": "[encoded data removed]",
      "text/plain": [
       "<Figure size 432x288 with 1 Axes>"
      ]
     },
     "metadata": {
      "needs_background": "light"
     },
     "output_type": "display_data"
    }
   ],
   "source": [
    "##Verificacion del cuantil 0.7 de la edad de las personas diagnosticadas con SARS-CoV-2 en la CDMX##\n",
    "plt.hist(X1['EDAD'], bins=20, cumulative=True, density=True)\n",
    "plt.plot([q_real,q_real],[0,1],color='black')\n"
   ]
  },
  {
   "cell_type": "markdown",
   "metadata": {},
   "source": [
    "**Remuestreo**"
   ]
  },
  {
   "cell_type": "code",
   "execution_count": 22,
   "metadata": {},
   "outputs": [],
   "source": [
    "##Edad promedio de las personas diagnosticados con SARS-CoV-2##\n",
    "B=500\n",
    "T1_List=[]\n",
    "for i in range(B):\n",
    "    Z=T2(np.random.choice(X['EDAD'],n)) \n",
    "    T1_List.append(Z)"
   ]
  },
  {
   "cell_type": "code",
   "execution_count": 23,
   "metadata": {},
   "outputs": [],
   "source": [
    "##Edad promedio de las personas diagnosticados con SARS-CoV-2 en la CDMX##\n",
    "B=500\n",
    "T2_List=[]\n",
    "for i in range(B):\n",
    "    Z=T2(np.random.choice(X1['EDAD'],n)) \n",
    "    T2_List.append(Z)"
   ]
  },
  {
   "cell_type": "code",
   "execution_count": 24,
   "metadata": {},
   "outputs": [],
   "source": [
    "##Edad promedio de las personas hospitalizadas por ser diagnosticados con SARS-CoV-2##\n",
    "B=500\n",
    "T3_List=[]\n",
    "for i in range(B):\n",
    "    Z=T2(np.random.choice(X2['EDAD'],n)) \n",
    "    T3_List.append(Z)"
   ]
  },
  {
   "cell_type": "code",
   "execution_count": 25,
   "metadata": {},
   "outputs": [],
   "source": [
    "##Edad promedio de las mujeres hospitalizadas por ser diagnosticadas con SARS-CoV-2##\n",
    "B=500\n",
    "T4_List=[]\n",
    "for i in range(B):\n",
    "    Z=T2(np.random.choice(X3['EDAD'],n)) \n",
    "    T4_List.append(Z)"
   ]
  },
  {
   "cell_type": "code",
   "execution_count": 26,
   "metadata": {},
   "outputs": [],
   "source": [
    "##La edad mediana de las personas diagnosticadas con SARS-CoV-2##\n",
    "B=1000\n",
    "T5_List=[]\n",
    "for i in range(B):\n",
    "    Z=T(np.random.choice(X['EDAD'],n)) \n",
    "    T5_List.append(Z)"
   ]
  },
  {
   "cell_type": "code",
   "execution_count": 27,
   "metadata": {},
   "outputs": [],
   "source": [
    "##El cuantil 0.7 de la edad de las personas diagnosticadas con SARS-CoV-2 en la CDMX##\n",
    "B=2000\n",
    "T6_List=[]\n",
    "for i in range(B):\n",
    "    Z=np.quantile(a=np.random.choice(X1['EDAD'],n),q=alpha) \n",
    "    T6_List.append(Z)"
   ]
  },
  {
   "cell_type": "code",
   "execution_count": 28,
   "metadata": {},
   "outputs": [],
   "source": [
    "##La probabilidad de que una persona diagnosticada con SARS-CoV-2 con edad entre 25 y 40 años sea hospitalizado##\n",
    "B=500\n",
    "T7_List=[]\n",
    "for i in range(B):\n",
    "    Z=(np.random.choice(X['Flag_Hosp_25_40'],n).sum(axis=0))/(np.random.choice(X['Flag_total_25_40'],n).sum(axis=0))\n",
    "    T7_List.append(Z)"
   ]
  },
  {
   "cell_type": "code",
   "execution_count": 29,
   "metadata": {
    "scrolled": false
   },
   "outputs": [
    {
     "data": {
      "text/plain": [
       "Text(0.5, 1.0, 'Proba_de_Hospitalizacion_Remuestreo')"
      ]
     },
     "execution_count": 29,
     "metadata": {},
     "output_type": "execute_result"
    },
    {
     "data": {
      "image/png": "[encoded data removed]",
      "text/plain": [
       "<Figure size 1800x1440 with 7 Axes>"
      ]
     },
     "metadata": {
      "needs_background": "light"
     },
     "output_type": "display_data"
    }
   ],
   "source": [
    "plt.figure(figsize=[25,20])\n",
    "plt.subplot(4,4,1)\n",
    "plt.hist(T1_List,bins=20)\n",
    "plt.title('Edad_Promedio_SARS_Remuestreo')\n",
    "\n",
    "plt.subplot(4,4,2)\n",
    "plt.hist(T2_List,bins=20)\n",
    "plt.title('Edad_Promedio_SARS_CDMX_Remuestreo')\n",
    "\n",
    "plt.subplot(4,4,3)\n",
    "plt.hist(T3_List,bins=20)\n",
    "plt.title('Edad_Promedio_SARS_HOSP_Remuestreo')\n",
    "\n",
    "plt.subplot(4,4,4)\n",
    "plt.hist(T4_List,bins=20)\n",
    "plt.title('Edad_Promedio_SARS_MUJ_HOSP_Remuestreo')\n",
    "\n",
    "plt.subplot(4,4,5)\n",
    "plt.hist(T5_List,bins=20)\n",
    "plt.title('Edad_Mediana_SARS_Remuestreo')\n",
    "\n",
    "plt.subplot(4,4,6)\n",
    "plt.hist(T6_List,bins=20)\n",
    "plt.title('Remuestreo_$q_{%s}$'%alpha)\n",
    "\n",
    "plt.subplot(4,4,7)\n",
    "plt.hist(T7_List,bins=20)\n",
    "plt.title('Proba_de_Hospitalizacion_Remuestreo')"
   ]
  },
  {
   "cell_type": "markdown",
   "metadata": {},
   "source": [
    "**Varianzas Mediante Bootstraping**"
   ]
  },
  {
   "cell_type": "code",
   "execution_count": 30,
   "metadata": {},
   "outputs": [],
   "source": [
    "List_Estadisticos=[T1_List,T2_List,T3_List,T4_List,T5_List,T6_List,T7_List]\n",
    "l=[]\n",
    "for a in List_Estadisticos:\n",
    "    z=np.var(a)\n",
    "    l.append(z)"
   ]
  },
  {
   "cell_type": "code",
   "execution_count": 31,
   "metadata": {},
   "outputs": [
    {
     "data": {
      "text/html": [
       "<div>\n",
       "<style scoped>\n",
       "    .dataframe tbody tr th:only-of-type {\n",
       "        vertical-align: middle;\n",
       "    }\n",
       "\n",
       "    .dataframe tbody tr th {\n",
       "        vertical-align: top;\n",
       "    }\n",
       "\n",
       "    .dataframe thead th {\n",
       "        text-align: right;\n",
       "    }\n",
       "</style>\n",
       "<table border=\"1\" class=\"dataframe\">\n",
       "  <thead>\n",
       "    <tr style=\"text-align: right;\">\n",
       "      <th></th>\n",
       "      <th>0</th>\n",
       "    </tr>\n",
       "  </thead>\n",
       "  <tbody>\n",
       "    <tr>\n",
       "      <th>Var_Edad_Promedio_SARS</th>\n",
       "      <td>0.010718</td>\n",
       "    </tr>\n",
       "    <tr>\n",
       "      <th>Var_Edad_Promedio_SARS_CDMX</th>\n",
       "      <td>0.010378</td>\n",
       "    </tr>\n",
       "    <tr>\n",
       "      <th>Var_Edad_Promedio_SARS_HOSP</th>\n",
       "      <td>0.009313</td>\n",
       "    </tr>\n",
       "    <tr>\n",
       "      <th>Var_Edad_Promedio_SARS_MUJ_HOSP</th>\n",
       "      <td>0.010151</td>\n",
       "    </tr>\n",
       "    <tr>\n",
       "      <th>Var_Edad_Mediana_SARS</th>\n",
       "      <td>0.020559</td>\n",
       "    </tr>\n",
       "    <tr>\n",
       "      <th>Var_$q_{0.7}$</th>\n",
       "      <td>0.101390</td>\n",
       "    </tr>\n",
       "    <tr>\n",
       "      <th>Var_Probabilidad_de_Hospitalizacion</th>\n",
       "      <td>0.000030</td>\n",
       "    </tr>\n",
       "  </tbody>\n",
       "</table>\n",
       "</div>"
      ],
      "text/plain": [
       "                                            0\n",
       "Var_Edad_Promedio_SARS               0.010718\n",
       "Var_Edad_Promedio_SARS_CDMX          0.010378\n",
       "Var_Edad_Promedio_SARS_HOSP          0.009313\n",
       "Var_Edad_Promedio_SARS_MUJ_HOSP      0.010151\n",
       "Var_Edad_Mediana_SARS                0.020559\n",
       "Var_$q_{0.7}$                        0.101390\n",
       "Var_Probabilidad_de_Hospitalizacion  0.000030"
      ]
     },
     "metadata": {},
     "output_type": "display_data"
    }
   ],
   "source": [
    "display(pd.DataFrame([l[0],l[1],l[2],l[3],l[4],l[5],l[6]],index=['Var_Edad_Promedio_SARS','Var_Edad_Promedio_SARS_CDMX','Var_Edad_Promedio_SARS_HOSP',\n",
    "                                                        'Var_Edad_Promedio_SARS_MUJ_HOSP',\n",
    "                                                        'Var_Edad_Mediana_SARS',\n",
    "                                                        'Var_$q_{%s}$'%alpha,\n",
    "                                                        'Var_Probabilidad_de_Hospitalizacion']))"
   ]
  },
  {
   "cell_type": "markdown",
   "metadata": {},
   "source": [
    "**Varianzas Mediante Jackknife**"
   ]
  },
  {
   "cell_type": "code",
   "execution_count": 32,
   "metadata": {},
   "outputs": [],
   "source": [
    "##Edad promedio de las personas diagnosticados con SARS-CoV-2##\n",
    "T_1=[]\n",
    "Data=list(X.EDAD)\n",
    "for i in range (n):\n",
    "    z=np.mean(Data[0:i]+Data[i+1:])\n",
    "    T_1.append(z)"
   ]
  },
  {
   "cell_type": "code",
   "execution_count": 33,
   "metadata": {
    "scrolled": true
   },
   "outputs": [],
   "source": [
    "##Edad promedio de las personas diagnosticados con SARS-CoV-2 en la CDMX##\n",
    "T_2=[]\n",
    "Data=list(X1.EDAD)\n",
    "for i in range (n):\n",
    "    z=np.mean(Data[0:i]+Data[i+1:])\n",
    "    T_2.append(z)"
   ]
  },
  {
   "cell_type": "code",
   "execution_count": 34,
   "metadata": {},
   "outputs": [],
   "source": [
    "##Edad promedio de las personas hospitalizadas por ser diagnosticados con SARS-CoV-2##\n",
    "T_3=[]\n",
    "Data=list(X2.EDAD)\n",
    "for i in range (n):\n",
    "    z=np.mean(Data[0:i]+Data[i+1:])\n",
    "    T_3.append(z)"
   ]
  },
  {
   "cell_type": "code",
   "execution_count": 35,
   "metadata": {},
   "outputs": [],
   "source": [
    "##Edad promedio de las mujeres hospitalizadas por ser diagnosticadas con SARS-CoV-2##\n",
    "T_4=[]\n",
    "Data=list(X3.EDAD)\n",
    "for i in range (n):\n",
    "    z=np.mean(Data[0:i]+Data[i+1:])\n",
    "    T_4.append(z)"
   ]
  },
  {
   "cell_type": "code",
   "execution_count": 36,
   "metadata": {},
   "outputs": [],
   "source": [
    "##La edad mediana de las personas diagnosticadas con SARS-CoV-2##\n",
    "T_5=[]\n",
    "Data=list(X.EDAD)\n",
    "for i in range (n):\n",
    "    z=np.median(Data[0:i]+Data[i+1:])\n",
    "    T_5.append(z)"
   ]
  },
  {
   "cell_type": "code",
   "execution_count": 37,
   "metadata": {},
   "outputs": [],
   "source": [
    "##El cuantil 0.7 de la edad de las personas diagnosticadas con SARS-CoV-2 en la CDMX##\n",
    "T_6=[]\n",
    "alpha=0.7\n",
    "Data=list(X1.EDAD)\n",
    "for i in range (n):\n",
    "    z=np.quantile(a=Data[0:i]+Data[i+1:],q=alpha)\n",
    "    T_6.append(z)"
   ]
  },
  {
   "cell_type": "code",
   "execution_count": 38,
   "metadata": {},
   "outputs": [],
   "source": [
    "##La probabilidad de que una persona diagnosticada con SARS-CoV-2 con edad entre 25 y 40 años sea hospitalizado##\n",
    "T_7=[]\n",
    "Data=list(X.Flag_Hosp_25_40)\n",
    "for i in range (n):\n",
    "    z=(sum(Data[0:i]+Data[i+1:]))/len(Data[0:i]+Data[i+1:])\n",
    "    T_7.append(z)"
   ]
  },
  {
   "cell_type": "code",
   "execution_count": 39,
   "metadata": {},
   "outputs": [],
   "source": [
    "Mean_1=[n*Prom_real_edad-(n-1)*T_1[i] for i in range(n)]\n",
    "Mean_2=[n*PromCDMX_real_edad-(n-1)*T_2[i] for i in range(n)]\n",
    "Mean_3=[n*PromHOSP_real_edad-(n-1)*T_3[i] for i in range(n)]\n",
    "Mean_4=[n*PromHOSP_real_edad_F-(n-1)*T_4[i] for i in range(n)]\n",
    "Median_5=[n*Mediana_real_edad-(n-1)*T_5[i] for i in range(n)]\n",
    "Q_6=[n*q_real-(n-1)*T_6[i] for i in range(n)]\n",
    "Proba_25_40=[n*probabilidad_hosp_real-(n-1)*T_7[i] for i in range(n)]"
   ]
  },
  {
   "cell_type": "code",
   "execution_count": 40,
   "metadata": {},
   "outputs": [],
   "source": [
    "var_1=((np.var(Mean_1)*n)/(n-1))/n\n",
    "var_2=((np.var(Mean_2)*n)/(n-1))/n\n",
    "var_3=((np.var(Mean_3)*n)/(n-1))/n\n",
    "var_4=((np.var(Mean_4)*n)/(n-1))/n\n",
    "var_5=((np.var(Median_5)*n)/(n-1))/n\n",
    "var_6=((np.var(Q_6)*n)/(n-1))/n\n",
    "var_7=((np.var(Proba_25_40)*n)/(n-1))/n"
   ]
  },
  {
   "cell_type": "code",
   "execution_count": 41,
   "metadata": {},
   "outputs": [
    {
     "data": {
      "text/html": [
       "<div>\n",
       "<style scoped>\n",
       "    .dataframe tbody tr th:only-of-type {\n",
       "        vertical-align: middle;\n",
       "    }\n",
       "\n",
       "    .dataframe tbody tr th {\n",
       "        vertical-align: top;\n",
       "    }\n",
       "\n",
       "    .dataframe thead th {\n",
       "        text-align: right;\n",
       "    }\n",
       "</style>\n",
       "<table border=\"1\" class=\"dataframe\">\n",
       "  <thead>\n",
       "    <tr style=\"text-align: right;\">\n",
       "      <th></th>\n",
       "      <th>0</th>\n",
       "    </tr>\n",
       "  </thead>\n",
       "  <tbody>\n",
       "    <tr>\n",
       "      <th>Var_Edad_Promedio_SARS</th>\n",
       "      <td>0.010345</td>\n",
       "    </tr>\n",
       "    <tr>\n",
       "      <th>Var_Edad_Promedio_SARS_CDMX</th>\n",
       "      <td>0.037985</td>\n",
       "    </tr>\n",
       "    <tr>\n",
       "      <th>Var_Edad_Promedio_SARS_HOSP</th>\n",
       "      <td>0.024465</td>\n",
       "    </tr>\n",
       "    <tr>\n",
       "      <th>Var_Edad_Promedio_SARS_MUJ_HOSP</th>\n",
       "      <td>0.074926</td>\n",
       "    </tr>\n",
       "    <tr>\n",
       "      <th>Var_Edad_Mediana_SARS</th>\n",
       "      <td>0.000000</td>\n",
       "    </tr>\n",
       "    <tr>\n",
       "      <th>Var_$q_{0.7}$</th>\n",
       "      <td>0.000000</td>\n",
       "    </tr>\n",
       "    <tr>\n",
       "      <th>Var_Probabilidad_de_Hospitalizacion</th>\n",
       "      <td>0.000003</td>\n",
       "    </tr>\n",
       "  </tbody>\n",
       "</table>\n",
       "</div>"
      ],
      "text/plain": [
       "                                            0\n",
       "Var_Edad_Promedio_SARS               0.010345\n",
       "Var_Edad_Promedio_SARS_CDMX          0.037985\n",
       "Var_Edad_Promedio_SARS_HOSP          0.024465\n",
       "Var_Edad_Promedio_SARS_MUJ_HOSP      0.074926\n",
       "Var_Edad_Mediana_SARS                0.000000\n",
       "Var_$q_{0.7}$                        0.000000\n",
       "Var_Probabilidad_de_Hospitalizacion  0.000003"
      ]
     },
     "metadata": {},
     "output_type": "display_data"
    }
   ],
   "source": [
    "display(pd.DataFrame([var_1,var_2,var_3,var_4,var_5,var_6,var_7],index=['Var_Edad_Promedio_SARS','Var_Edad_Promedio_SARS_CDMX','Var_Edad_Promedio_SARS_HOSP',\n",
    "                                                        'Var_Edad_Promedio_SARS_MUJ_HOSP',\n",
    "                                                        'Var_Edad_Mediana_SARS',\n",
    "                                                        'Var_$q_{%s}$'%alpha ,\n",
    "                                                        'Var_Probabilidad_de_Hospitalizacion']))"
   ]
  },
  {
   "cell_type": "markdown",
   "metadata": {},
   "source": [
    "**Intervalos de 95% de Confianza mediante Bootstraping**"
   ]
  },
  {
   "cell_type": "code",
   "execution_count": 42,
   "metadata": {},
   "outputs": [],
   "source": [
    "alpha=0.05"
   ]
  },
  {
   "cell_type": "code",
   "execution_count": 43,
   "metadata": {},
   "outputs": [],
   "source": [
    "#Intervalos\n",
    "C1=(2*Prom_real_edad-np.quantile(a=T1_List,q=1-alpha/2),2*Prom_real_edad-np.quantile(a=T1_List,q=alpha/2))\n",
    "\n",
    "C2=(2*PromCDMX_real_edad-np.quantile(a=T2_List,q=1-alpha/2),2*PromCDMX_real_edad-np.quantile(a=T2_List,q=alpha/2))\n",
    "\n",
    "C3=(2*PromHOSP_real_edad-np.quantile(a=T3_List,q=1-alpha/2),2*PromHOSP_real_edad-np.quantile(a=T3_List,q=alpha/2))\n",
    "\n",
    "C4=(2*PromHOSP_real_edad_F-np.quantile(a=T4_List,q=1-alpha/2),2*PromHOSP_real_edad_F-np.quantile(a=T4_List,q=alpha/2))\n",
    "\n",
    "C5=(2*Mediana_real_edad-np.quantile(a=T5_List,q=1-alpha/2),2*Mediana_real_edad-np.quantile(a=T5_List,q=alpha/2))\n",
    "\n",
    "C6=(2*q_real-np.quantile(a=T6_List,q=1-alpha/2),2*q_real-np.quantile(a=T6_List,q=alpha/2))\n",
    "\n",
    "C7=(2*probabilidad_hosp_real-np.quantile(a=T7_List,q=1-alpha/2),2*probabilidad_hosp_real-np.quantile(a=T7_List,q=alpha/2))"
   ]
  },
  {
   "cell_type": "code",
   "execution_count": 44,
   "metadata": {},
   "outputs": [
    {
     "name": "stdout",
     "output_type": "stream",
     "text": [
      "Intervalo T1: (46.311956243875414, 46.71054279749478)\n",
      "Intervalo T2: (46.22601554521636, 46.60862813096047)\n",
      "Intervalo T3: (53.292487966398156, 53.67558945333949)\n",
      "Intervalo T4: (53.900921709931524, 54.30851512307966)\n",
      "Intervalo T5: (46.0, 46.0)\n",
      "Intervalo T6: (53.0, 54.0)\n",
      "Intervalo T7: (0.2026644964034271, 0.22410590788935875)\n"
     ]
    }
   ],
   "source": [
    "print('Intervalo T1:',C1)\n",
    "print('Intervalo T2:',C2)\n",
    "print('Intervalo T3:',C3)\n",
    "print('Intervalo T4:',C4)\n",
    "print('Intervalo T5:',C5)\n",
    "print('Intervalo T6:',C6)\n",
    "print('Intervalo T7:',C7)"
   ]
  },
  {
   "cell_type": "markdown",
   "metadata": {},
   "source": [
    "**Grafica de Intervalos**"
   ]
  },
  {
   "cell_type": "code",
   "execution_count": 45,
   "metadata": {
    "scrolled": false
   },
   "outputs": [
    {
     "data": {
      "text/plain": [
       "Text(0.5, 1.0, 'Probabilidad_de_Hospitalizacion')"
      ]
     },
     "execution_count": 45,
     "metadata": {},
     "output_type": "execute_result"
    },
    {
     "data": {
      "image/png": "[encoded data removed]",
      "text/plain": [
       "<Figure size 1800x1440 with 7 Axes>"
      ]
     },
     "metadata": {
      "needs_background": "light"
     },
     "output_type": "display_data"
    }
   ],
   "source": [
    "alpha=0.7\n",
    "plt.figure(figsize=[25,20])\n",
    "plt.subplot(4,4,1)\n",
    "plt.hist(T1_List,bins=20,alpha=0.85)\n",
    "plt.plot([Prom_real_edad,Prom_real_edad],[0,70],color='black')\n",
    "plt.plot([C1[0],C1[0]],[0,70],color='red')\n",
    "plt.plot([C1[1],C1[1]],[0,70],color='red')\n",
    "plt.title('Edad_Promedio_SARS')\n",
    "\n",
    "plt.subplot(4,4,2)\n",
    "plt.hist(T2_List,bins=20,alpha=0.85)\n",
    "plt.plot([PromCDMX_real_edad,PromCDMX_real_edad],[0,80],color='black')\n",
    "plt.plot([C2[0],C2[0]],[0,80],color='red')\n",
    "plt.plot([C2[1],C2[1]],[0,80],color='red')\n",
    "plt.title('Edad_Promedio_SARS_CDMX')\n",
    "\n",
    "plt.subplot(4,4,3)\n",
    "plt.hist(T3_List,bins=20,alpha=0.85)\n",
    "plt.plot([PromHOSP_real_edad,PromHOSP_real_edad],[0,70],color='black')\n",
    "plt.plot([C3[0],C3[0]],[0,70],color='red')\n",
    "plt.plot([C3[1],C3[1]],[0,70],color='red')\n",
    "plt.title('Edad_Promedio_SARS_HOSP')\n",
    "\n",
    "plt.subplot(4,4,4)\n",
    "plt.hist(T4_List,bins=20,alpha=0.85)\n",
    "plt.plot([PromHOSP_real_edad_F,PromHOSP_real_edad_F],[0,80],color='black')\n",
    "plt.plot([C4[0],C4[0]],[0,80],color='red')\n",
    "plt.plot([C4[1],C4[1]],[0,80],color='red')\n",
    "plt.title('Edad_Promedio_SARS_MUJ_HOSP')\n",
    "\n",
    "plt.subplot(4,4,5)\n",
    "plt.hist(T5_List,bins=20,alpha=0.85)\n",
    "plt.plot([Mediana_real_edad,Mediana_real_edad],[0,1000],color='black')\n",
    "plt.plot([C5[0],C5[0]],[0,1000],color='red')\n",
    "plt.plot([C5[1],C5[1]],[0,1000],color='red')\n",
    "plt.title('Edad_Mediana_SARS')\n",
    "\n",
    "plt.subplot(4,4,6)\n",
    "plt.hist(T6_List,bins=20,alpha=0.85)\n",
    "plt.plot([q_real,q_real],[0,1500],color='black')\n",
    "plt.plot([C6[0],C6[0]],[0,1500],color='red')\n",
    "plt.plot([C6[1],C6[1]],[0,1500],color='red')\n",
    "plt.title('$q_{%s}$'%alpha)\n",
    "\n",
    "plt.subplot(4,4,7)\n",
    "plt.hist(T7_List,bins=20,alpha=0.85)\n",
    "plt.plot([probabilidad_hosp_real,probabilidad_hosp_real],[0,80],color='black')\n",
    "plt.plot([C7[0],C7[0]],[0,80],color='red')\n",
    "plt.plot([C7[1],C7[1]],[0,80],color='red')\n",
    "plt.title('Probabilidad_de_Hospitalizacion')\n"
   ]
  },
  {
   "cell_type": "markdown",
   "metadata": {},
   "source": [
    "**Appendix jackknife_stats**"
   ]
  },
  {
   "cell_type": "code",
   "execution_count": 46,
   "metadata": {},
   "outputs": [],
   "source": [
    "##Uso de la funcion  jackknife_stats para comparar los intervalos de confianza ( conf_interval) vs los obtenidos por Bootstraping##\n",
    "\n",
    "from astropy.stats import jackknife_stats"
   ]
  },
  {
   "cell_type": "code",
   "execution_count": 47,
   "metadata": {},
   "outputs": [
    {
     "name": "stdout",
     "output_type": "stream",
     "text": [
      "46.51408120659537 0.0 0.10171141890510293 [46.31473049 46.71343192]\n"
     ]
    }
   ],
   "source": [
    "##Edad promedio de las personas diagnosticados con SARS-CoV-2##\n",
    "test_statistic = np.mean\n",
    "data= np.array(X.EDAD)\n",
    "estimate, bias, stderr, conf_interval, = jackknife_stats(data, test_statistic, 0.95)\n",
    "print(estimate, bias, stderr, conf_interval)"
   ]
  },
  {
   "cell_type": "code",
   "execution_count": 48,
   "metadata": {
    "scrolled": true
   },
   "outputs": [
    {
     "name": "stdout",
     "output_type": "stream",
     "text": [
      "46.42605578935523 -4.558842192636803e-11 0.19488661624832976 [46.04408504 46.80802654]\n"
     ]
    }
   ],
   "source": [
    "##Edad promedio de las personas diagnosticados con SARS-CoV-2 en la CDMX##\n",
    "test_statistic = np.mean\n",
    "data= np.array(X1.EDAD)\n",
    "estimate, bias, stderr, conf_interval, = jackknife_stats(data, test_statistic, 0.95)\n",
    "print(estimate, bias, stderr, conf_interval)"
   ]
  },
  {
   "cell_type": "code",
   "execution_count": 49,
   "metadata": {},
   "outputs": [
    {
     "name": "stdout",
     "output_type": "stream",
     "text": [
      "53.48198489751888 0.0 0.1564090043094045 [53.17542888 53.78854091]\n"
     ]
    }
   ],
   "source": [
    "##Edad promedio de las personas hospitalizadas por ser diagnosticados con SARS-CoV-2##\n",
    "test_statistic = np.mean\n",
    "data= np.array(X2.EDAD)\n",
    "estimate, bias, stderr, conf_interval, = jackknife_stats(data, test_statistic, 0.95)\n",
    "print(estimate, bias, stderr, conf_interval)"
   ]
  },
  {
   "cell_type": "code",
   "execution_count": 50,
   "metadata": {},
   "outputs": [
    {
     "name": "stdout",
     "output_type": "stream",
     "text": [
      "54.10779384032938 2.2602364424528787e-11 0.27368921522263867 [53.57137284 54.64421485]\n"
     ]
    }
   ],
   "source": [
    "##Edad promedio de las mujeres hospitalizadas por ser diagnosticadas con SARS-CoV-2##\n",
    "test_statistic = np.mean\n",
    "data= np.array(X3.EDAD)\n",
    "estimate, bias, stderr, conf_interval, = jackknife_stats(data, test_statistic, 0.95)\n",
    "print(estimate, bias, stderr, conf_interval)"
   ]
  },
  {
   "cell_type": "code",
   "execution_count": 51,
   "metadata": {},
   "outputs": [
    {
     "name": "stdout",
     "output_type": "stream",
     "text": [
      "46.0 0.0 0.0 [46. 46.]\n"
     ]
    }
   ],
   "source": [
    "##La edad mediana de las personas diagnosticadas con SARS-CoV-2##\n",
    "test_statistic = lambda x: np.median(x)\n",
    "data= np.array(X.EDAD)\n",
    "estimate, bias, stderr, conf_interval, = jackknife_stats(data, test_statistic, 0.95)\n",
    "print(estimate, bias, stderr, conf_interval)"
   ]
  },
  {
   "cell_type": "markdown",
   "metadata": {},
   "source": [
    "## Conclusiones"
   ]
  },
  {
   "cell_type": "code",
   "execution_count": 52,
   "metadata": {},
   "outputs": [],
   "source": [
    "def freq(df,var):\n",
    "    for v in var:\n",
    "        aux = df[v].value_counts().sort_index().to_frame()\n",
    "        aux.rename(columns={v:'Freq_abs'},inplace=True)\n",
    "        aux['Freq_rel'] = aux['Freq_abs']/aux['Freq_abs'].sum()\n",
    "        aux['Freq_abs_acum'] = aux['Freq_abs'].cumsum()\n",
    "        aux['Freq_rel_acum'] = aux['Freq_rel'].cumsum()\n",
    "        print('****%s****\\n'%v)\n",
    "        print(aux)\n",
    "        print('\\n')"
   ]
  },
  {
   "cell_type": "code",
   "execution_count": 53,
   "metadata": {
    "scrolled": false
   },
   "outputs": [
    {
     "name": "stdout",
     "output_type": "stream",
     "text": [
      "****TIPO_PACIENTE****\n",
      "\n",
      "   Freq_abs  Freq_rel  Freq_abs_acum  Freq_rel_acum\n",
      "1     14201  0.605045          14201       0.605045\n",
      "2      9270  0.394955          23471       1.000000\n",
      "\n",
      "\n",
      "****EDAD****\n",
      "\n",
      "     Freq_abs  Freq_rel  Freq_abs_acum  Freq_rel_acum\n",
      "0          36  0.001534             36       0.001534\n",
      "1          33  0.001406             69       0.002940\n",
      "2          24  0.001023             93       0.003962\n",
      "3          14  0.000596            107       0.004559\n",
      "4          15  0.000639            122       0.005198\n",
      "..        ...       ...            ...            ...\n",
      "98          1  0.000043          23464       0.999702\n",
      "99          2  0.000085          23466       0.999787\n",
      "100         3  0.000128          23469       0.999915\n",
      "102         1  0.000043          23470       0.999957\n",
      "113         1  0.000043          23471       1.000000\n",
      "\n",
      "[103 rows x 4 columns]\n",
      "\n",
      "\n",
      "****SEXO****\n",
      "\n",
      "   Freq_abs  Freq_rel  Freq_abs_acum  Freq_rel_acum\n",
      "1      9811  0.418005           9811       0.418005\n",
      "2     13660  0.581995          23471       1.000000\n",
      "\n",
      "\n",
      "****RESULTADO****\n",
      "\n",
      "   Freq_abs  Freq_rel  Freq_abs_acum  Freq_rel_acum\n",
      "1     23471       1.0          23471            1.0\n",
      "\n",
      "\n",
      "****ENTIDAD_RES****\n",
      "\n",
      "    Freq_abs  Freq_rel  Freq_abs_acum  Freq_rel_acum\n",
      "1        265  0.011291            265       0.011291\n",
      "2       1660  0.070726           1925       0.082016\n",
      "3        339  0.014443           2264       0.096459\n",
      "4        113  0.004814           2377       0.101274\n",
      "5        453  0.019300           2830       0.120574\n",
      "6         29  0.001236           2859       0.121810\n",
      "7        227  0.009672           3086       0.131481\n",
      "8        512  0.021814           3598       0.153296\n",
      "9       6417  0.273401          10015       0.426697\n",
      "10        75  0.003195          10090       0.429892\n",
      "11       308  0.013123          10398       0.443015\n",
      "12       342  0.014571          10740       0.457586\n",
      "13       312  0.013293          11052       0.470879\n",
      "14       417  0.017767          11469       0.488646\n",
      "15      3893  0.165864          15362       0.654510\n",
      "16       369  0.015722          15731       0.670231\n",
      "17       430  0.018320          16161       0.688552\n",
      "18       115  0.004900          16276       0.693451\n",
      "19       418  0.017809          16694       0.711261\n",
      "20       166  0.007073          16860       0.718333\n",
      "21       806  0.034340          17666       0.752674\n",
      "22       157  0.006689          17823       0.759363\n",
      "23       911  0.038814          18734       0.798176\n",
      "24       146  0.006220          18880       0.804397\n",
      "25      1119  0.047676          19999       0.852073\n",
      "26       266  0.011333          20265       0.863406\n",
      "27      1196  0.050956          21461       0.914362\n",
      "28       380  0.016190          21841       0.930553\n",
      "29       238  0.010140          22079       0.940693\n",
      "30       705  0.030037          22784       0.970730\n",
      "31       588  0.025052          23372       0.995782\n",
      "32        99  0.004218          23471       1.000000\n",
      "\n",
      "\n",
      "****ENTIDAD_UM****\n",
      "\n",
      "    Freq_abs  Freq_rel  Freq_abs_acum  Freq_rel_acum\n",
      "1        267  0.011376            267       0.011376\n",
      "2       1676  0.071407           1943       0.082783\n",
      "3        339  0.014443           2282       0.097226\n",
      "4        161  0.006860           2443       0.104086\n",
      "5        450  0.019173           2893       0.123258\n",
      "6         28  0.001193           2921       0.124451\n",
      "7        222  0.009458           3143       0.133910\n",
      "8        513  0.021857           3656       0.155767\n",
      "9       7486  0.318947          11142       0.474713\n",
      "10        74  0.003153          11216       0.477866\n",
      "11       308  0.013123          11524       0.490989\n",
      "12       332  0.014145          11856       0.505134\n",
      "13       307  0.013080          12163       0.518214\n",
      "14       419  0.017852          12582       0.536066\n",
      "15      2842  0.121086          15424       0.657151\n",
      "16       381  0.016233          15805       0.673384\n",
      "17       413  0.017596          16218       0.690980\n",
      "18       107  0.004559          16325       0.695539\n",
      "19       428  0.018235          16753       0.713774\n",
      "20       164  0.006987          16917       0.720762\n",
      "21       815  0.034724          17732       0.755485\n",
      "22       165  0.007030          17897       0.762515\n",
      "23       900  0.038345          18797       0.800861\n",
      "24       145  0.006178          18942       0.807038\n",
      "25      1125  0.047931          20067       0.854970\n",
      "26       239  0.010183          20306       0.865153\n",
      "27      1185  0.050488          21491       0.915641\n",
      "28       381  0.016233          21872       0.931873\n",
      "29       246  0.010481          22118       0.942354\n",
      "30       673  0.028674          22791       0.971028\n",
      "31       584  0.024882          23375       0.995910\n",
      "32        96  0.004090          23471       1.000000\n",
      "\n",
      "\n",
      "****Flag_Hosp_25_40****\n",
      "\n",
      "   Freq_abs  Freq_rel  Freq_abs_acum  Freq_rel_acum\n",
      "0     21858  0.931277          21858       0.931277\n",
      "1      1613  0.068723          23471       1.000000\n",
      "\n",
      "\n",
      "****Flag_total_25_40****\n",
      "\n",
      "   Freq_abs  Freq_rel  Freq_abs_acum  Freq_rel_acum\n",
      "0     15919  0.678241          15919       0.678241\n",
      "1      7552  0.321759          23471       1.000000\n",
      "\n",
      "\n"
     ]
    }
   ],
   "source": [
    "X.columns\n",
    "var=X.columns.tolist()\n",
    "freq(X,var)"
   ]
  },
  {
   "cell_type": "markdown",
   "metadata": {},
   "source": [
    "**1 . Los datos nos indican que la mayor entidad afectada por el Covid-19 es la CDMX con cerca del 32% de los casos totales en el pais, seguida por el EDOMEX con el 12% y en tercer lugar Baja California con el 7%**"
   ]
  },
  {
   "cell_type": "code",
   "execution_count": 54,
   "metadata": {},
   "outputs": [
    {
     "data": {
      "text/plain": [
       "<matplotlib.axes._subplots.AxesSubplot at 0x1b764935d08>"
      ]
     },
     "execution_count": 54,
     "metadata": {},
     "output_type": "execute_result"
    },
    {
     "data": {
      "image/png": "[encoded data removed]",
      "text/plain": [
       "<Figure size 720x360 with 1 Axes>"
      ]
     },
     "metadata": {
      "needs_background": "light"
     },
     "output_type": "display_data"
    }
   ],
   "source": [
    "X['ENTIDAD_RES'].value_counts().head(10).plot(kind='bar', figsize=[10,5])"
   ]
  },
  {
   "cell_type": "markdown",
   "metadata": {},
   "source": [
    "**2. Con un 95% de confianza (bajo Bootstraping & Jacknife) la mediana de la edad en las personas diagnosticadas con Covid-19 en Mexico es de 46 años**"
   ]
  },
  {
   "cell_type": "code",
   "execution_count": 55,
   "metadata": {},
   "outputs": [
    {
     "data": {
      "text/plain": [
       "<matplotlib.axes._subplots.AxesSubplot at 0x1b7649aae48>"
      ]
     },
     "execution_count": 55,
     "metadata": {},
     "output_type": "execute_result"
    },
    {
     "data": {
      "image/png": "[encoded data removed]",
      "text/plain": [
       "<Figure size 720x360 with 1 Axes>"
      ]
     },
     "metadata": {
      "needs_background": "light"
     },
     "output_type": "display_data"
    }
   ],
   "source": [
    "X['EDAD'].value_counts().head(40).plot(kind='bar', figsize=[10,5])"
   ]
  },
  {
   "cell_type": "markdown",
   "metadata": {},
   "source": [
    "**3. El porcentage de hombres con  resultado positivo de Covid-19 es del 58% vs 42% por parte de las mujeres**"
   ]
  },
  {
   "cell_type": "markdown",
   "metadata": {},
   "source": [
    "**4. La edad promedio de personas infectadas por Covid-19 es de 46.5 años**"
   ]
  },
  {
   "cell_type": "code",
   "execution_count": 56,
   "metadata": {},
   "outputs": [
    {
     "data": {
      "text/html": [
       "<div>\n",
       "<style scoped>\n",
       "    .dataframe tbody tr th:only-of-type {\n",
       "        vertical-align: middle;\n",
       "    }\n",
       "\n",
       "    .dataframe tbody tr th {\n",
       "        vertical-align: top;\n",
       "    }\n",
       "\n",
       "    .dataframe thead th {\n",
       "        text-align: right;\n",
       "    }\n",
       "</style>\n",
       "<table border=\"1\" class=\"dataframe\">\n",
       "  <thead>\n",
       "    <tr style=\"text-align: right;\">\n",
       "      <th></th>\n",
       "      <th>TIPO_PACIENTE</th>\n",
       "      <th>EDAD</th>\n",
       "      <th>SEXO</th>\n",
       "      <th>RESULTADO</th>\n",
       "      <th>ENTIDAD_RES</th>\n",
       "      <th>ENTIDAD_UM</th>\n",
       "      <th>Flag_Hosp_25_40</th>\n",
       "      <th>Flag_total_25_40</th>\n",
       "    </tr>\n",
       "  </thead>\n",
       "  <tbody>\n",
       "    <tr>\n",
       "      <th>count</th>\n",
       "      <td>23471.000000</td>\n",
       "      <td>23471.000000</td>\n",
       "      <td>23471.000000</td>\n",
       "      <td>23471.0</td>\n",
       "      <td>23471.000000</td>\n",
       "      <td>23471.000000</td>\n",
       "      <td>23471.000000</td>\n",
       "      <td>23471.000000</td>\n",
       "    </tr>\n",
       "    <tr>\n",
       "      <th>mean</th>\n",
       "      <td>1.394955</td>\n",
       "      <td>46.514081</td>\n",
       "      <td>1.581995</td>\n",
       "      <td>1.0</td>\n",
       "      <td>14.746538</td>\n",
       "      <td>14.409740</td>\n",
       "      <td>0.068723</td>\n",
       "      <td>0.321759</td>\n",
       "    </tr>\n",
       "    <tr>\n",
       "      <th>std</th>\n",
       "      <td>0.488852</td>\n",
       "      <td>15.582442</td>\n",
       "      <td>0.493242</td>\n",
       "      <td>0.0</td>\n",
       "      <td>8.279901</td>\n",
       "      <td>8.352249</td>\n",
       "      <td>0.252988</td>\n",
       "      <td>0.467161</td>\n",
       "    </tr>\n",
       "    <tr>\n",
       "      <th>min</th>\n",
       "      <td>1.000000</td>\n",
       "      <td>0.000000</td>\n",
       "      <td>1.000000</td>\n",
       "      <td>1.0</td>\n",
       "      <td>1.000000</td>\n",
       "      <td>1.000000</td>\n",
       "      <td>0.000000</td>\n",
       "      <td>0.000000</td>\n",
       "    </tr>\n",
       "    <tr>\n",
       "      <th>25%</th>\n",
       "      <td>1.000000</td>\n",
       "      <td>35.000000</td>\n",
       "      <td>1.000000</td>\n",
       "      <td>1.0</td>\n",
       "      <td>9.000000</td>\n",
       "      <td>9.000000</td>\n",
       "      <td>0.000000</td>\n",
       "      <td>0.000000</td>\n",
       "    </tr>\n",
       "    <tr>\n",
       "      <th>50%</th>\n",
       "      <td>1.000000</td>\n",
       "      <td>46.000000</td>\n",
       "      <td>2.000000</td>\n",
       "      <td>1.0</td>\n",
       "      <td>15.000000</td>\n",
       "      <td>12.000000</td>\n",
       "      <td>0.000000</td>\n",
       "      <td>0.000000</td>\n",
       "    </tr>\n",
       "    <tr>\n",
       "      <th>75%</th>\n",
       "      <td>2.000000</td>\n",
       "      <td>57.000000</td>\n",
       "      <td>2.000000</td>\n",
       "      <td>1.0</td>\n",
       "      <td>21.000000</td>\n",
       "      <td>21.000000</td>\n",
       "      <td>0.000000</td>\n",
       "      <td>1.000000</td>\n",
       "    </tr>\n",
       "    <tr>\n",
       "      <th>max</th>\n",
       "      <td>2.000000</td>\n",
       "      <td>113.000000</td>\n",
       "      <td>2.000000</td>\n",
       "      <td>1.0</td>\n",
       "      <td>32.000000</td>\n",
       "      <td>32.000000</td>\n",
       "      <td>1.000000</td>\n",
       "      <td>1.000000</td>\n",
       "    </tr>\n",
       "  </tbody>\n",
       "</table>\n",
       "</div>"
      ],
      "text/plain": [
       "       TIPO_PACIENTE          EDAD          SEXO  RESULTADO   ENTIDAD_RES  \\\n",
       "count   23471.000000  23471.000000  23471.000000    23471.0  23471.000000   \n",
       "mean        1.394955     46.514081      1.581995        1.0     14.746538   \n",
       "std         0.488852     15.582442      0.493242        0.0      8.279901   \n",
       "min         1.000000      0.000000      1.000000        1.0      1.000000   \n",
       "25%         1.000000     35.000000      1.000000        1.0      9.000000   \n",
       "50%         1.000000     46.000000      2.000000        1.0     15.000000   \n",
       "75%         2.000000     57.000000      2.000000        1.0     21.000000   \n",
       "max         2.000000    113.000000      2.000000        1.0     32.000000   \n",
       "\n",
       "         ENTIDAD_UM  Flag_Hosp_25_40  Flag_total_25_40  \n",
       "count  23471.000000     23471.000000      23471.000000  \n",
       "mean      14.409740         0.068723          0.321759  \n",
       "std        8.352249         0.252988          0.467161  \n",
       "min        1.000000         0.000000          0.000000  \n",
       "25%        9.000000         0.000000          0.000000  \n",
       "50%       12.000000         0.000000          0.000000  \n",
       "75%       21.000000         0.000000          1.000000  \n",
       "max       32.000000         1.000000          1.000000  "
      ]
     },
     "execution_count": 56,
     "metadata": {},
     "output_type": "execute_result"
    }
   ],
   "source": [
    "X.describe()"
   ]
  },
  {
   "cell_type": "markdown",
   "metadata": {},
   "source": [
    "**5. Con un 95% de confianza (bajo Bootstraping & Jacknife) se tiene entre un (20.26%, 22.41%) de probabilidad de que una persona diagnosticada con Covid-19 con edad entre 25 y 40 años sea hospitalizada, actualmente esta probabilidad es del 21.36%**"
   ]
  },
  {
   "cell_type": "code",
   "execution_count": 58,
   "metadata": {},
   "outputs": [
    {
     "data": {
      "text/plain": [
       "Text(0.5, 1.0, 'Probabilidad_de_Hospitalizacion')"
      ]
     },
     "execution_count": 58,
     "metadata": {},
     "output_type": "execute_result"
    },
    {
     "data": {
      "image/png": "[encoded data removed]",
      "text/plain": [
       "<Figure size 432x288 with 1 Axes>"
      ]
     },
     "metadata": {
      "needs_background": "light"
     },
     "output_type": "display_data"
    }
   ],
   "source": [
    "plt.hist(T7_List,bins=20,alpha=0.85)\n",
    "plt.plot([probabilidad_hosp_real,probabilidad_hosp_real],[0,80],color='black')\n",
    "plt.plot([C7[0],C7[0]],[0,80],color='red')\n",
    "plt.plot([C7[1],C7[1]],[0,80],color='red')\n",
    "plt.title('Probabilidad_de_Hospitalizacion')"
   ]
  },
  {
   "cell_type": "code",
   "execution_count": null,
   "metadata": {},
   "outputs": [],
   "source": []
  }
 ],
 "metadata": {
  "kernelspec": {
   "display_name": "Python 3",
   "language": "python",
   "name": "python3"
  },
  "language_info": {
   "codemirror_mode": {
    "name": "ipython",
    "version": 3
   },
   "file_extension": ".py",
   "mimetype": "text/x-python",
   "name": "python",
   "nbconvert_exporter": "python",
   "pygments_lexer": "ipython3",
   "version": "3.7.6"
  }
 },
 "nbformat": 4,
 "nbformat_minor": 4
}
