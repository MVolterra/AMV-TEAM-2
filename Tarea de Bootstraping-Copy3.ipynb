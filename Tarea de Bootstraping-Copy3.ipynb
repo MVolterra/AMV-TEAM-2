{
 "cells": [
  {
   "cell_type": "markdown",
   "metadata": {},
   "source": [
    "## **Ejercicio CoVid-19**"
   ]
  },
  {
   "cell_type": "markdown",
   "metadata": {},
   "source": [
    "**Definicion de librerias**"
   ]
  },
  {
   "cell_type": "code",
   "execution_count": 1,
   "metadata": {},
   "outputs": [],
   "source": [
    "import numpy as np\n",
    "import matplotlib.pylab as plt\n",
    "from math import exp,log,sqrt,pi,sin\n",
    "import scipy.stats as sts\n",
    "import pandas as pd\n",
    "%matplotlib inline"
   ]
  },
  {
   "cell_type": "markdown",
   "metadata": {},
   "source": [
    "**Importacion de datos y limpieza**"
   ]
  },
  {
   "cell_type": "code",
   "execution_count": 2,
   "metadata": {},
   "outputs": [],
   "source": [
    "ruta = 'C:/Users/1063949520/Marcos/Tareas_Estadistica/'\n",
    "nombre='200503COVID19MEXICO.csv'\n",
    "df = pd.read_csv(ruta+nombre,encoding=\"iso-8859-1\").reset_index(drop=True)"
   ]
  },
  {
   "cell_type": "code",
   "execution_count": 3,
   "metadata": {},
   "outputs": [
    {
     "data": {
      "text/plain": [
       "(95839, 35)"
      ]
     },
     "execution_count": 3,
     "metadata": {},
     "output_type": "execute_result"
    }
   ],
   "source": [
    "df.shape"
   ]
  },
  {
   "cell_type": "code",
   "execution_count": 4,
   "metadata": {},
   "outputs": [
    {
     "data": {
      "text/html": [
       "<div>\n",
       "<style scoped>\n",
       "    .dataframe tbody tr th:only-of-type {\n",
       "        vertical-align: middle;\n",
       "    }\n",
       "\n",
       "    .dataframe tbody tr th {\n",
       "        vertical-align: top;\n",
       "    }\n",
       "\n",
       "    .dataframe thead th {\n",
       "        text-align: right;\n",
       "    }\n",
       "</style>\n",
       "<table border=\"1\" class=\"dataframe\">\n",
       "  <thead>\n",
       "    <tr style=\"text-align: right;\">\n",
       "      <th></th>\n",
       "      <th>FECHA_ACTUALIZACION</th>\n",
       "      <th>ID_REGISTRO</th>\n",
       "      <th>ORIGEN</th>\n",
       "      <th>SECTOR</th>\n",
       "      <th>ENTIDAD_UM</th>\n",
       "      <th>SEXO</th>\n",
       "      <th>ENTIDAD_NAC</th>\n",
       "      <th>ENTIDAD_RES</th>\n",
       "      <th>MUNICIPIO_RES</th>\n",
       "      <th>TIPO_PACIENTE</th>\n",
       "      <th>...</th>\n",
       "      <th>CARDIOVASCULAR</th>\n",
       "      <th>OBESIDAD</th>\n",
       "      <th>RENAL_CRONICA</th>\n",
       "      <th>TABAQUISMO</th>\n",
       "      <th>OTRO_CASO</th>\n",
       "      <th>RESULTADO</th>\n",
       "      <th>MIGRANTE</th>\n",
       "      <th>PAIS_NACIONALIDAD</th>\n",
       "      <th>PAIS_ORIGEN</th>\n",
       "      <th>UCI</th>\n",
       "    </tr>\n",
       "  </thead>\n",
       "  <tbody>\n",
       "    <tr>\n",
       "      <th>0</th>\n",
       "      <td>2020-05-03</td>\n",
       "      <td>134d54</td>\n",
       "      <td>1</td>\n",
       "      <td>4</td>\n",
       "      <td>17</td>\n",
       "      <td>2</td>\n",
       "      <td>17</td>\n",
       "      <td>17</td>\n",
       "      <td>6</td>\n",
       "      <td>1</td>\n",
       "      <td>...</td>\n",
       "      <td>2</td>\n",
       "      <td>2</td>\n",
       "      <td>2</td>\n",
       "      <td>2</td>\n",
       "      <td>99</td>\n",
       "      <td>1</td>\n",
       "      <td>99</td>\n",
       "      <td>MÃ©xico</td>\n",
       "      <td>99</td>\n",
       "      <td>97</td>\n",
       "    </tr>\n",
       "    <tr>\n",
       "      <th>1</th>\n",
       "      <td>2020-05-03</td>\n",
       "      <td>05f125</td>\n",
       "      <td>1</td>\n",
       "      <td>4</td>\n",
       "      <td>9</td>\n",
       "      <td>1</td>\n",
       "      <td>9</td>\n",
       "      <td>9</td>\n",
       "      <td>15</td>\n",
       "      <td>1</td>\n",
       "      <td>...</td>\n",
       "      <td>2</td>\n",
       "      <td>2</td>\n",
       "      <td>2</td>\n",
       "      <td>2</td>\n",
       "      <td>99</td>\n",
       "      <td>1</td>\n",
       "      <td>99</td>\n",
       "      <td>MÃ©xico</td>\n",
       "      <td>99</td>\n",
       "      <td>97</td>\n",
       "    </tr>\n",
       "    <tr>\n",
       "      <th>2</th>\n",
       "      <td>2020-05-03</td>\n",
       "      <td>0d2268</td>\n",
       "      <td>1</td>\n",
       "      <td>4</td>\n",
       "      <td>2</td>\n",
       "      <td>2</td>\n",
       "      <td>25</td>\n",
       "      <td>2</td>\n",
       "      <td>2</td>\n",
       "      <td>2</td>\n",
       "      <td>...</td>\n",
       "      <td>2</td>\n",
       "      <td>1</td>\n",
       "      <td>2</td>\n",
       "      <td>2</td>\n",
       "      <td>99</td>\n",
       "      <td>1</td>\n",
       "      <td>99</td>\n",
       "      <td>MÃ©xico</td>\n",
       "      <td>99</td>\n",
       "      <td>2</td>\n",
       "    </tr>\n",
       "    <tr>\n",
       "      <th>3</th>\n",
       "      <td>2020-05-03</td>\n",
       "      <td>063132</td>\n",
       "      <td>1</td>\n",
       "      <td>4</td>\n",
       "      <td>9</td>\n",
       "      <td>2</td>\n",
       "      <td>9</td>\n",
       "      <td>9</td>\n",
       "      <td>15</td>\n",
       "      <td>2</td>\n",
       "      <td>...</td>\n",
       "      <td>2</td>\n",
       "      <td>2</td>\n",
       "      <td>2</td>\n",
       "      <td>2</td>\n",
       "      <td>99</td>\n",
       "      <td>1</td>\n",
       "      <td>99</td>\n",
       "      <td>MÃ©xico</td>\n",
       "      <td>99</td>\n",
       "      <td>2</td>\n",
       "    </tr>\n",
       "    <tr>\n",
       "      <th>4</th>\n",
       "      <td>2020-05-03</td>\n",
       "      <td>0c0bda</td>\n",
       "      <td>1</td>\n",
       "      <td>12</td>\n",
       "      <td>14</td>\n",
       "      <td>1</td>\n",
       "      <td>14</td>\n",
       "      <td>14</td>\n",
       "      <td>39</td>\n",
       "      <td>2</td>\n",
       "      <td>...</td>\n",
       "      <td>2</td>\n",
       "      <td>2</td>\n",
       "      <td>2</td>\n",
       "      <td>2</td>\n",
       "      <td>2</td>\n",
       "      <td>2</td>\n",
       "      <td>99</td>\n",
       "      <td>MÃ©xico</td>\n",
       "      <td>99</td>\n",
       "      <td>2</td>\n",
       "    </tr>\n",
       "  </tbody>\n",
       "</table>\n",
       "<p>5 rows × 35 columns</p>\n",
       "</div>"
      ],
      "text/plain": [
       "  FECHA_ACTUALIZACION ID_REGISTRO  ORIGEN  SECTOR  ENTIDAD_UM  SEXO  \\\n",
       "0          2020-05-03      134d54       1       4          17     2   \n",
       "1          2020-05-03      05f125       1       4           9     1   \n",
       "2          2020-05-03      0d2268       1       4           2     2   \n",
       "3          2020-05-03      063132       1       4           9     2   \n",
       "4          2020-05-03      0c0bda       1      12          14     1   \n",
       "\n",
       "   ENTIDAD_NAC  ENTIDAD_RES  MUNICIPIO_RES  TIPO_PACIENTE  ... CARDIOVASCULAR  \\\n",
       "0           17           17              6              1  ...              2   \n",
       "1            9            9             15              1  ...              2   \n",
       "2           25            2              2              2  ...              2   \n",
       "3            9            9             15              2  ...              2   \n",
       "4           14           14             39              2  ...              2   \n",
       "\n",
       "  OBESIDAD RENAL_CRONICA  TABAQUISMO  OTRO_CASO  RESULTADO  MIGRANTE  \\\n",
       "0        2             2           2         99          1        99   \n",
       "1        2             2           2         99          1        99   \n",
       "2        1             2           2         99          1        99   \n",
       "3        2             2           2         99          1        99   \n",
       "4        2             2           2          2          2        99   \n",
       "\n",
       "   PAIS_NACIONALIDAD  PAIS_ORIGEN  UCI  \n",
       "0            MÃ©xico           99   97  \n",
       "1            MÃ©xico           99   97  \n",
       "2            MÃ©xico           99    2  \n",
       "3            MÃ©xico           99    2  \n",
       "4            MÃ©xico           99    2  \n",
       "\n",
       "[5 rows x 35 columns]"
      ]
     },
     "execution_count": 4,
     "metadata": {},
     "output_type": "execute_result"
    }
   ],
   "source": [
    "df.head()"
   ]
  },
  {
   "cell_type": "code",
   "execution_count": 5,
   "metadata": {},
   "outputs": [
    {
     "data": {
      "text/html": [
       "<div>\n",
       "<style scoped>\n",
       "    .dataframe tbody tr th:only-of-type {\n",
       "        vertical-align: middle;\n",
       "    }\n",
       "\n",
       "    .dataframe tbody tr th {\n",
       "        vertical-align: top;\n",
       "    }\n",
       "\n",
       "    .dataframe thead th {\n",
       "        text-align: right;\n",
       "    }\n",
       "</style>\n",
       "<table border=\"1\" class=\"dataframe\">\n",
       "  <thead>\n",
       "    <tr style=\"text-align: right;\">\n",
       "      <th></th>\n",
       "      <th>FECHA_ACTUALIZACION</th>\n",
       "      <th>ID_REGISTRO</th>\n",
       "      <th>ORIGEN</th>\n",
       "      <th>SECTOR</th>\n",
       "      <th>ENTIDAD_UM</th>\n",
       "      <th>SEXO</th>\n",
       "      <th>ENTIDAD_NAC</th>\n",
       "      <th>ENTIDAD_RES</th>\n",
       "      <th>MUNICIPIO_RES</th>\n",
       "      <th>TIPO_PACIENTE</th>\n",
       "      <th>...</th>\n",
       "      <th>CARDIOVASCULAR</th>\n",
       "      <th>OBESIDAD</th>\n",
       "      <th>RENAL_CRONICA</th>\n",
       "      <th>TABAQUISMO</th>\n",
       "      <th>OTRO_CASO</th>\n",
       "      <th>RESULTADO</th>\n",
       "      <th>MIGRANTE</th>\n",
       "      <th>PAIS_NACIONALIDAD</th>\n",
       "      <th>PAIS_ORIGEN</th>\n",
       "      <th>UCI</th>\n",
       "    </tr>\n",
       "  </thead>\n",
       "  <tbody>\n",
       "  </tbody>\n",
       "</table>\n",
       "<p>0 rows × 35 columns</p>\n",
       "</div>"
      ],
      "text/plain": [
       "Empty DataFrame\n",
       "Columns: [FECHA_ACTUALIZACION, ID_REGISTRO, ORIGEN, SECTOR, ENTIDAD_UM, SEXO, ENTIDAD_NAC, ENTIDAD_RES, MUNICIPIO_RES, TIPO_PACIENTE, FECHA_INGRESO, FECHA_SINTOMAS, FECHA_DEF, INTUBADO, NEUMONIA, EDAD, NACIONALIDAD, EMBARAZO, HABLA_LENGUA_INDIG, DIABETES, EPOC, ASMA, INMUSUPR, HIPERTENSION, OTRA_COM, CARDIOVASCULAR, OBESIDAD, RENAL_CRONICA, TABAQUISMO, OTRO_CASO, RESULTADO, MIGRANTE, PAIS_NACIONALIDAD, PAIS_ORIGEN, UCI]\n",
       "Index: []\n",
       "\n",
       "[0 rows x 35 columns]"
      ]
     },
     "execution_count": 5,
     "metadata": {},
     "output_type": "execute_result"
    }
   ],
   "source": [
    "##Valores duplicados por id_registro\n",
    "df[df['ID_REGISTRO'].duplicated()]\n",
    "##No hay duplicados!"
   ]
  },
  {
   "cell_type": "markdown",
   "metadata": {},
   "source": [
    "**Analisis descriptivo de los datos**"
   ]
  },
  {
   "cell_type": "code",
   "execution_count": 38,
   "metadata": {},
   "outputs": [
    {
     "data": {
      "text/html": [
       "<div>\n",
       "<style scoped>\n",
       "    .dataframe tbody tr th:only-of-type {\n",
       "        vertical-align: middle;\n",
       "    }\n",
       "\n",
       "    .dataframe tbody tr th {\n",
       "        vertical-align: top;\n",
       "    }\n",
       "\n",
       "    .dataframe thead th {\n",
       "        text-align: right;\n",
       "    }\n",
       "</style>\n",
       "<table border=\"1\" class=\"dataframe\">\n",
       "  <thead>\n",
       "    <tr style=\"text-align: right;\">\n",
       "      <th></th>\n",
       "      <th>TIPO_PACIENTE</th>\n",
       "      <th>EDAD</th>\n",
       "      <th>SEXO</th>\n",
       "      <th>RESULTADO</th>\n",
       "      <th>ENTIDAD_RES</th>\n",
       "      <th>ENTIDAD_UM</th>\n",
       "    </tr>\n",
       "  </thead>\n",
       "  <tbody>\n",
       "    <tr>\n",
       "      <th>count</th>\n",
       "      <td>95839.000000</td>\n",
       "      <td>95839.000000</td>\n",
       "      <td>95839.000000</td>\n",
       "      <td>95839.000000</td>\n",
       "      <td>95839.000000</td>\n",
       "      <td>95839.000000</td>\n",
       "    </tr>\n",
       "    <tr>\n",
       "      <th>mean</th>\n",
       "      <td>1.266812</td>\n",
       "      <td>42.052734</td>\n",
       "      <td>1.508353</td>\n",
       "      <td>1.887238</td>\n",
       "      <td>14.897620</td>\n",
       "      <td>14.660639</td>\n",
       "    </tr>\n",
       "    <tr>\n",
       "      <th>std</th>\n",
       "      <td>0.442296</td>\n",
       "      <td>17.318496</td>\n",
       "      <td>0.499933</td>\n",
       "      <td>0.603595</td>\n",
       "      <td>8.006973</td>\n",
       "      <td>8.075045</td>\n",
       "    </tr>\n",
       "    <tr>\n",
       "      <th>min</th>\n",
       "      <td>1.000000</td>\n",
       "      <td>0.000000</td>\n",
       "      <td>1.000000</td>\n",
       "      <td>1.000000</td>\n",
       "      <td>1.000000</td>\n",
       "      <td>1.000000</td>\n",
       "    </tr>\n",
       "    <tr>\n",
       "      <th>25%</th>\n",
       "      <td>1.000000</td>\n",
       "      <td>30.000000</td>\n",
       "      <td>1.000000</td>\n",
       "      <td>2.000000</td>\n",
       "      <td>9.000000</td>\n",
       "      <td>9.000000</td>\n",
       "    </tr>\n",
       "    <tr>\n",
       "      <th>50%</th>\n",
       "      <td>1.000000</td>\n",
       "      <td>41.000000</td>\n",
       "      <td>2.000000</td>\n",
       "      <td>2.000000</td>\n",
       "      <td>14.000000</td>\n",
       "      <td>14.000000</td>\n",
       "    </tr>\n",
       "    <tr>\n",
       "      <th>75%</th>\n",
       "      <td>2.000000</td>\n",
       "      <td>53.000000</td>\n",
       "      <td>2.000000</td>\n",
       "      <td>2.000000</td>\n",
       "      <td>20.000000</td>\n",
       "      <td>20.000000</td>\n",
       "    </tr>\n",
       "    <tr>\n",
       "      <th>max</th>\n",
       "      <td>2.000000</td>\n",
       "      <td>113.000000</td>\n",
       "      <td>2.000000</td>\n",
       "      <td>3.000000</td>\n",
       "      <td>32.000000</td>\n",
       "      <td>32.000000</td>\n",
       "    </tr>\n",
       "  </tbody>\n",
       "</table>\n",
       "</div>"
      ],
      "text/plain": [
       "       TIPO_PACIENTE          EDAD          SEXO     RESULTADO   ENTIDAD_RES  \\\n",
       "count   95839.000000  95839.000000  95839.000000  95839.000000  95839.000000   \n",
       "mean        1.266812     42.052734      1.508353      1.887238     14.897620   \n",
       "std         0.442296     17.318496      0.499933      0.603595      8.006973   \n",
       "min         1.000000      0.000000      1.000000      1.000000      1.000000   \n",
       "25%         1.000000     30.000000      1.000000      2.000000      9.000000   \n",
       "50%         1.000000     41.000000      2.000000      2.000000     14.000000   \n",
       "75%         2.000000     53.000000      2.000000      2.000000     20.000000   \n",
       "max         2.000000    113.000000      2.000000      3.000000     32.000000   \n",
       "\n",
       "         ENTIDAD_UM  \n",
       "count  95839.000000  \n",
       "mean      14.660639  \n",
       "std        8.075045  \n",
       "min        1.000000  \n",
       "25%        9.000000  \n",
       "50%       14.000000  \n",
       "75%       20.000000  \n",
       "max       32.000000  "
      ]
     },
     "execution_count": 38,
     "metadata": {},
     "output_type": "execute_result"
    },
    {
     "data": {
      "image/png": "[encoded data removed]",
      "text/plain": [
       "<Figure size 1440x1080 with 6 Axes>"
      ]
     },
     "metadata": {
      "needs_background": "light"
     },
     "output_type": "display_data"
    }
   ],
   "source": [
    "var = ['TIPO_PACIENTE','EDAD','SEXO','RESULTADO','ENTIDAD_RES','ENTIDAD_UM']\n",
    "X=df[var].copy()\n",
    "X.hist(bins=15, figsize=(20,15))\n",
    "X.describe()\n",
    "##Las distribuciones de la entidad donde residen es similar a la de entidad donde se atienden , 97% se atienden donde residen"
   ]
  },
  {
   "cell_type": "markdown",
   "metadata": {},
   "source": [
    "**Filtro para Personas Diagnosticadas**"
   ]
  },
  {
   "cell_type": "code",
   "execution_count": 39,
   "metadata": {},
   "outputs": [],
   "source": [
    "X=X.loc[X['RESULTADO']==1]"
   ]
  },
  {
   "cell_type": "markdown",
   "metadata": {},
   "source": [
    "**Lista de DATOS para analizar**"
   ]
  },
  {
   "cell_type": "code",
   "execution_count": 40,
   "metadata": {},
   "outputs": [],
   "source": [
    "X.reset_index(drop=True,inplace=True)"
   ]
  },
  {
   "cell_type": "code",
   "execution_count": 41,
   "metadata": {},
   "outputs": [
    {
     "data": {
      "text/plain": [
       "(23471, 6)"
      ]
     },
     "execution_count": 41,
     "metadata": {},
     "output_type": "execute_result"
    }
   ],
   "source": [
    "X.shape"
   ]
  },
  {
   "cell_type": "code",
   "execution_count": 42,
   "metadata": {},
   "outputs": [
    {
     "data": {
      "text/html": [
       "<div>\n",
       "<style scoped>\n",
       "    .dataframe tbody tr th:only-of-type {\n",
       "        vertical-align: middle;\n",
       "    }\n",
       "\n",
       "    .dataframe tbody tr th {\n",
       "        vertical-align: top;\n",
       "    }\n",
       "\n",
       "    .dataframe thead th {\n",
       "        text-align: right;\n",
       "    }\n",
       "</style>\n",
       "<table border=\"1\" class=\"dataframe\">\n",
       "  <thead>\n",
       "    <tr style=\"text-align: right;\">\n",
       "      <th></th>\n",
       "      <th>TIPO_PACIENTE</th>\n",
       "      <th>EDAD</th>\n",
       "      <th>SEXO</th>\n",
       "      <th>RESULTADO</th>\n",
       "      <th>ENTIDAD_RES</th>\n",
       "      <th>ENTIDAD_UM</th>\n",
       "    </tr>\n",
       "  </thead>\n",
       "  <tbody>\n",
       "    <tr>\n",
       "      <th>0</th>\n",
       "      <td>1</td>\n",
       "      <td>45</td>\n",
       "      <td>1</td>\n",
       "      <td>1</td>\n",
       "      <td>9</td>\n",
       "      <td>9</td>\n",
       "    </tr>\n",
       "    <tr>\n",
       "      <th>1</th>\n",
       "      <td>1</td>\n",
       "      <td>35</td>\n",
       "      <td>2</td>\n",
       "      <td>1</td>\n",
       "      <td>9</td>\n",
       "      <td>9</td>\n",
       "    </tr>\n",
       "    <tr>\n",
       "      <th>2</th>\n",
       "      <td>1</td>\n",
       "      <td>14</td>\n",
       "      <td>2</td>\n",
       "      <td>1</td>\n",
       "      <td>30</td>\n",
       "      <td>30</td>\n",
       "    </tr>\n",
       "    <tr>\n",
       "      <th>3</th>\n",
       "      <td>2</td>\n",
       "      <td>50</td>\n",
       "      <td>2</td>\n",
       "      <td>1</td>\n",
       "      <td>8</td>\n",
       "      <td>8</td>\n",
       "    </tr>\n",
       "    <tr>\n",
       "      <th>4</th>\n",
       "      <td>2</td>\n",
       "      <td>80</td>\n",
       "      <td>2</td>\n",
       "      <td>1</td>\n",
       "      <td>12</td>\n",
       "      <td>12</td>\n",
       "    </tr>\n",
       "  </tbody>\n",
       "</table>\n",
       "</div>"
      ],
      "text/plain": [
       "   TIPO_PACIENTE  EDAD  SEXO  RESULTADO  ENTIDAD_RES  ENTIDAD_UM\n",
       "0              1    45     1          1            9           9\n",
       "1              1    35     2          1            9           9\n",
       "2              1    14     2          1           30          30\n",
       "3              2    50     2          1            8           8\n",
       "4              2    80     2          1           12          12"
      ]
     },
     "execution_count": 42,
     "metadata": {},
     "output_type": "execute_result"
    }
   ],
   "source": [
    "X.head()"
   ]
  },
  {
   "cell_type": "code",
   "execution_count": 43,
   "metadata": {},
   "outputs": [],
   "source": [
    "n=len(X['TIPO_PACIENTE'])"
   ]
  },
  {
   "cell_type": "code",
   "execution_count": 44,
   "metadata": {},
   "outputs": [
    {
     "data": {
      "text/plain": [
       "23471"
      ]
     },
     "execution_count": 44,
     "metadata": {},
     "output_type": "execute_result"
    }
   ],
   "source": [
    "n"
   ]
  },
  {
   "cell_type": "code",
   "execution_count": 45,
   "metadata": {},
   "outputs": [],
   "source": [
    "X['Flag_Hosp_25_40']= ((X['TIPO_PACIENTE']==2) & (X['EDAD']>=25) & (X['EDAD']<=40))*1"
   ]
  },
  {
   "cell_type": "code",
   "execution_count": 46,
   "metadata": {},
   "outputs": [
    {
     "data": {
      "text/plain": [
       "(23471, 7)"
      ]
     },
     "execution_count": 46,
     "metadata": {},
     "output_type": "execute_result"
    }
   ],
   "source": [
    "X.shape"
   ]
  },
  {
   "cell_type": "code",
   "execution_count": 48,
   "metadata": {},
   "outputs": [
    {
     "data": {
      "text/plain": [
       "1613"
      ]
     },
     "execution_count": 48,
     "metadata": {},
     "output_type": "execute_result"
    }
   ],
   "source": [
    "##Numero de individuos diagnosticados con SARS-CoV-2 con edad entre 25 y 40 años y hospitalizados\n",
    "X['Flag_Hosp_25_40'].sum(axis=0)"
   ]
  },
  {
   "cell_type": "markdown",
   "metadata": {},
   "source": [
    "**Definicion de los estadisticos**"
   ]
  },
  {
   "cell_type": "code",
   "execution_count": 14,
   "metadata": {},
   "outputs": [],
   "source": [
    "T= lambda x: np.median(x)"
   ]
  },
  {
   "cell_type": "code",
   "execution_count": 15,
   "metadata": {},
   "outputs": [],
   "source": [
    "T2= lambda x: x.mean()"
   ]
  },
  {
   "cell_type": "code",
   "execution_count": 52,
   "metadata": {},
   "outputs": [],
   "source": [
    "##Edad promedio de las personas diagnosticados con SARS-CoV-2##\n",
    "Prom_real_edad=T2(X['EDAD'])\n",
    "##Edad promedio de las personas diagnosticados con SARS-CoV-2 en la CDMX##\n",
    "X1=X.loc[X['ENTIDAD_RES']==9]\n",
    "PromCDMX_real_edad=T2(X1['EDAD'])\n",
    "##Edad promedio de las personas hospitalizadas por ser diagnosticados con SARS-CoV-2##\n",
    "X2=X.loc[X['TIPO_PACIENTE']==2]\n",
    "PromHOSP_real_edad=T2(X2['EDAD'])\n",
    "##Edad promedio de las mujeres hospitalizadas por ser diagnosticadas con SARS-CoV-2##\n",
    "X3=X.loc[(X['TIPO_PACIENTE']==2) & (X['SEXO']==1)]\n",
    "PromHOSP_real_edad_F=T2(X3['EDAD'])\n",
    "##La edad mediana de las personas diagnosticadas con SARS-CoV-2##\n",
    "Mediana_real_edad=T(X['EDAD'])\n",
    "##El cuantil 0.7 de la edad de las personas diagnosticadas con SARS-CoV-2 en la CDMX##\n",
    "alpha=0.7\n",
    "q_real=np.quantile(a=X1['EDAD'],q=alpha)\n",
    "##La probabilidad de que una persona diagnosticada con SARS-CoV-2 con edad entre 25 y 40 años sea hospitalizado\n",
    "probabilidad_hosp_real=(X['Flag_Hosp_25_40'].sum(axis=0))/n"
   ]
  },
  {
   "cell_type": "code",
   "execution_count": 53,
   "metadata": {},
   "outputs": [
    {
     "data": {
      "text/html": [
       "<div>\n",
       "<style scoped>\n",
       "    .dataframe tbody tr th:only-of-type {\n",
       "        vertical-align: middle;\n",
       "    }\n",
       "\n",
       "    .dataframe tbody tr th {\n",
       "        vertical-align: top;\n",
       "    }\n",
       "\n",
       "    .dataframe thead th {\n",
       "        text-align: right;\n",
       "    }\n",
       "</style>\n",
       "<table border=\"1\" class=\"dataframe\">\n",
       "  <thead>\n",
       "    <tr style=\"text-align: right;\">\n",
       "      <th></th>\n",
       "      <th>0</th>\n",
       "    </tr>\n",
       "  </thead>\n",
       "  <tbody>\n",
       "    <tr>\n",
       "      <th>Edad_Promedio_SARS</th>\n",
       "      <td>46.514081</td>\n",
       "    </tr>\n",
       "    <tr>\n",
       "      <th>Edad_Promedio_SARS_CDMX</th>\n",
       "      <td>46.426056</td>\n",
       "    </tr>\n",
       "    <tr>\n",
       "      <th>Edad_Promedio_SARS_HOSP</th>\n",
       "      <td>53.481985</td>\n",
       "    </tr>\n",
       "    <tr>\n",
       "      <th>Edad_Promedio_SARS_MUJ_HOPS</th>\n",
       "      <td>54.107794</td>\n",
       "    </tr>\n",
       "    <tr>\n",
       "      <th>Edad_Mediana_SARS</th>\n",
       "      <td>46.000000</td>\n",
       "    </tr>\n",
       "    <tr>\n",
       "      <th>$q_{0.7}$</th>\n",
       "      <td>54.000000</td>\n",
       "    </tr>\n",
       "    <tr>\n",
       "      <th>Probabilidad_de_Hospitalizacion</th>\n",
       "      <td>0.068723</td>\n",
       "    </tr>\n",
       "  </tbody>\n",
       "</table>\n",
       "</div>"
      ],
      "text/plain": [
       "                                         0\n",
       "Edad_Promedio_SARS               46.514081\n",
       "Edad_Promedio_SARS_CDMX          46.426056\n",
       "Edad_Promedio_SARS_HOSP          53.481985\n",
       "Edad_Promedio_SARS_MUJ_HOPS      54.107794\n",
       "Edad_Mediana_SARS                46.000000\n",
       "$q_{0.7}$                        54.000000\n",
       "Probabilidad_de_Hospitalizacion   0.068723"
      ]
     },
     "metadata": {},
     "output_type": "display_data"
    }
   ],
   "source": [
    "display(pd.DataFrame([Prom_real_edad,PromCDMX_real_edad,PromHOSP_real_edad,PromHOSP_real_edad_F,Mediana_real_edad,q_real,probabilidad_hosp_real],index=['Edad_Promedio_SARS','Edad_Promedio_SARS_CDMX','Edad_Promedio_SARS_HOSP',\n",
    "                                                        'Edad_Promedio_SARS_MUJ_HOPS',\n",
    "                                                        'Edad_Mediana_SARS',\n",
    "                                                        '$q_{%s}$'%alpha,\n",
    "                                                        'Probabilidad_de_Hospitalizacion']))"
   ]
  },
  {
   "cell_type": "code",
   "execution_count": 54,
   "metadata": {
    "scrolled": false
   },
   "outputs": [
    {
     "data": {
      "text/plain": [
       "(array([0.00638928, 0.01199938, 0.01854449, 0.03927069, 0.11438367,\n",
       "        0.22019635, 0.35624123, 0.48994857, 0.61196821, 0.74396135,\n",
       "        0.84712482, 0.90509584, 0.95137915, 0.97818295, 0.990494  ,\n",
       "        0.99735079, 0.99906498, 0.99968833, 0.99984416, 1.        ]),\n",
       " array([  0.  ,   5.65,  11.3 ,  16.95,  22.6 ,  28.25,  33.9 ,  39.55,\n",
       "         45.2 ,  50.85,  56.5 ,  62.15,  67.8 ,  73.45,  79.1 ,  84.75,\n",
       "         90.4 ,  96.05, 101.7 , 107.35, 113.  ]),\n",
       " <a list of 20 Patch objects>)"
      ]
     },
     "execution_count": 54,
     "metadata": {},
     "output_type": "execute_result"
    },
    {
     "data": {
      "image/png": "[encoded data removed]",
      "text/plain": [
       "<Figure size 432x288 with 1 Axes>"
      ]
     },
     "metadata": {
      "needs_background": "light"
     },
     "output_type": "display_data"
    }
   ],
   "source": [
    "##Verificacion del cuantil 0.7 de la edad de las personas diagnosticadas con SARS-CoV-2 en la CDMX##\n",
    "plt.hist(X1['EDAD'], bins=20, cumulative=True, density=True)"
   ]
  },
  {
   "cell_type": "markdown",
   "metadata": {},
   "source": [
    "**Remuestreo**"
   ]
  },
  {
   "cell_type": "code",
   "execution_count": 60,
   "metadata": {},
   "outputs": [],
   "source": [
    "##Edad promedio de las personas diagnosticados con SARS-CoV-2##\n",
    "B=500\n",
    "T1_List=[]\n",
    "for i in range(B):\n",
    "    Z=T2(np.random.choice(X['EDAD'],n)) \n",
    "    T1_List.append(Z)"
   ]
  },
  {
   "cell_type": "code",
   "execution_count": 32,
   "metadata": {},
   "outputs": [],
   "source": [
    "##Edad promedio de las personas diagnosticados con SARS-CoV-2 en la CDMX##\n",
    "B=500\n",
    "T2_List=[]\n",
    "for i in range(B):\n",
    "    Z=T2(np.random.choice(X1['EDAD'],n)) \n",
    "    T2_List.append(Z)"
   ]
  },
  {
   "cell_type": "code",
   "execution_count": 33,
   "metadata": {},
   "outputs": [],
   "source": [
    "##Edad promedio de las personas hospitalizadas por ser diagnosticados con SARS-CoV-2##\n",
    "B=500\n",
    "T3_List=[]\n",
    "for i in range(B):\n",
    "    Z=T2(np.random.choice(X2['EDAD'],n)) \n",
    "    T3_List.append(Z)"
   ]
  },
  {
   "cell_type": "code",
   "execution_count": 34,
   "metadata": {},
   "outputs": [],
   "source": [
    "##Edad promedio de las mujeres hospitalizadas por ser diagnosticadas con SARS-CoV-2##\n",
    "B=500\n",
    "T4_List=[]\n",
    "for i in range(B):\n",
    "    Z=T2(np.random.choice(X3['EDAD'],n)) \n",
    "    T4_List.append(Z)"
   ]
  },
  {
   "cell_type": "code",
   "execution_count": 35,
   "metadata": {},
   "outputs": [],
   "source": [
    "##La edad mediana de las personas diagnosticadas con SARS-CoV-2##\n",
    "B=1000\n",
    "T5_List=[]\n",
    "for i in range(B):\n",
    "    Z=T(np.random.choice(X['EDAD'],n)) \n",
    "    T5_List.append(Z)"
   ]
  },
  {
   "cell_type": "code",
   "execution_count": 36,
   "metadata": {},
   "outputs": [],
   "source": [
    "##El cuantil 0.7 de la edad de las personas diagnosticadas con SARS-CoV-2 en la CDMX##\n",
    "B=2000\n",
    "T6_List=[]\n",
    "for i in range(B):\n",
    "    Z=np.quantile(a=np.random.choice(X1['EDAD'],n),q=alpha) \n",
    "    T6_List.append(Z)"
   ]
  },
  {
   "cell_type": "code",
   "execution_count": 55,
   "metadata": {},
   "outputs": [],
   "source": [
    "##La probabilidad de que una persona diagnosticada con SARS-CoV-2 con edad entre 25 y 40 años sea hospitalizado##\n",
    "B=500\n",
    "T7_List=[]\n",
    "for i in range(B):\n",
    "    Z=(np.random.choice(X['Flag_Hosp_25_40'],n).sum(axis=0))/n\n",
    "    T7_List.append(Z)"
   ]
  },
  {
   "cell_type": "code",
   "execution_count": 84,
   "metadata": {
    "scrolled": true
   },
   "outputs": [
    {
     "data": {
      "text/plain": [
       "Text(0.5, 1.0, 'Proba_de_Hospitalizacion_Remuestreo')"
      ]
     },
     "execution_count": 84,
     "metadata": {},
     "output_type": "execute_result"
    },
    {
     "data": {
      "image/png": "[encoded data removed]",
      "text/plain": [
       "<Figure size 1800x1440 with 7 Axes>"
      ]
     },
     "metadata": {
      "needs_background": "light"
     },
     "output_type": "display_data"
    }
   ],
   "source": [
    "plt.figure(figsize=[25,20])\n",
    "plt.subplot(4,4,1)\n",
    "plt.hist(T1_List,bins=20)\n",
    "plt.title('Edad_Promedio_SARS_Remuestreo')\n",
    "\n",
    "plt.subplot(4,4,2)\n",
    "plt.hist(T2_List,bins=20)\n",
    "plt.title('Edad_Promedio_SARS_CDMX_Remuestreo')\n",
    "\n",
    "plt.subplot(4,4,3)\n",
    "plt.hist(T3_List,bins=20)\n",
    "plt.title('Edad_Promedio_SARS_HOSP_Remuestreo')\n",
    "\n",
    "plt.subplot(4,4,4)\n",
    "plt.hist(T4_List,bins=20)\n",
    "plt.title('Edad_Promedio_SARS_MUJ_HOSP_Remuestreo')\n",
    "\n",
    "plt.subplot(4,4,5)\n",
    "plt.hist(T5_List,bins=20)\n",
    "plt.title('Edad_Mediana_SARS_Remuestreo')\n",
    "\n",
    "plt.subplot(4,4,6)\n",
    "plt.hist(T6_List,bins=20)\n",
    "plt.title('Remuestreo_$q_{%s}$'%alpha)\n",
    "\n",
    "plt.subplot(4,4,7)\n",
    "plt.hist(T7_List,bins=20)\n",
    "plt.title('Proba_de_Hospitalizacion_Remuestreo')"
   ]
  },
  {
   "cell_type": "markdown",
   "metadata": {},
   "source": [
    "**Varianzas Mediante Bootstraping**"
   ]
  },
  {
   "cell_type": "code",
   "execution_count": 62,
   "metadata": {},
   "outputs": [],
   "source": [
    "List_Estadisticos=[T1_List,T2_List,T3_List,T4_List,T5_List,T6_List,T7_List]\n",
    "l=[]\n",
    "for a in List_Estadisticos:\n",
    "    z=np.var(a)\n",
    "    l.append(z)"
   ]
  },
  {
   "cell_type": "code",
   "execution_count": 63,
   "metadata": {},
   "outputs": [
    {
     "data": {
      "text/html": [
       "<div>\n",
       "<style scoped>\n",
       "    .dataframe tbody tr th:only-of-type {\n",
       "        vertical-align: middle;\n",
       "    }\n",
       "\n",
       "    .dataframe tbody tr th {\n",
       "        vertical-align: top;\n",
       "    }\n",
       "\n",
       "    .dataframe thead th {\n",
       "        text-align: right;\n",
       "    }\n",
       "</style>\n",
       "<table border=\"1\" class=\"dataframe\">\n",
       "  <thead>\n",
       "    <tr style=\"text-align: right;\">\n",
       "      <th></th>\n",
       "      <th>0</th>\n",
       "    </tr>\n",
       "  </thead>\n",
       "  <tbody>\n",
       "    <tr>\n",
       "      <th>Var_Edad_Promedio_SARS</th>\n",
       "      <td>0.009315</td>\n",
       "    </tr>\n",
       "    <tr>\n",
       "      <th>Var_Edad_Promedio_SARS_CDMX</th>\n",
       "      <td>0.010299</td>\n",
       "    </tr>\n",
       "    <tr>\n",
       "      <th>Var_Edad_Promedio_SARS_HOSP</th>\n",
       "      <td>0.009231</td>\n",
       "    </tr>\n",
       "    <tr>\n",
       "      <th>Var_Edad_Promedio_SARS_MUJ_HOPS</th>\n",
       "      <td>0.010363</td>\n",
       "    </tr>\n",
       "    <tr>\n",
       "      <th>Var_Edad_Mediana_SARS</th>\n",
       "      <td>0.024375</td>\n",
       "    </tr>\n",
       "    <tr>\n",
       "      <th>Var_$q_{0.7}$</th>\n",
       "      <td>0.110124</td>\n",
       "    </tr>\n",
       "    <tr>\n",
       "      <th>Var_Probabilidad_de_Hospitalizacion</th>\n",
       "      <td>0.000003</td>\n",
       "    </tr>\n",
       "  </tbody>\n",
       "</table>\n",
       "</div>"
      ],
      "text/plain": [
       "                                            0\n",
       "Var_Edad_Promedio_SARS               0.009315\n",
       "Var_Edad_Promedio_SARS_CDMX          0.010299\n",
       "Var_Edad_Promedio_SARS_HOSP          0.009231\n",
       "Var_Edad_Promedio_SARS_MUJ_HOPS      0.010363\n",
       "Var_Edad_Mediana_SARS                0.024375\n",
       "Var_$q_{0.7}$                        0.110124\n",
       "Var_Probabilidad_de_Hospitalizacion  0.000003"
      ]
     },
     "metadata": {},
     "output_type": "display_data"
    }
   ],
   "source": [
    "display(pd.DataFrame([l[0],l[1],l[2],l[3],l[4],l[5],l[6]],index=['Var_Edad_Promedio_SARS','Var_Edad_Promedio_SARS_CDMX','Var_Edad_Promedio_SARS_HOSP',\n",
    "                                                        'Var_Edad_Promedio_SARS_MUJ_HOSP',\n",
    "                                                        'Var_Edad_Mediana_SARS',\n",
    "                                                        'Var_$q_{%s}$'%alpha,\n",
    "                                                        'Var_Probabilidad_de_Hospitalizacion']))"
   ]
  },
  {
   "cell_type": "markdown",
   "metadata": {},
   "source": [
    "**Varianzas Mediante Jackknife**"
   ]
  },
  {
   "cell_type": "code",
   "execution_count": 69,
   "metadata": {},
   "outputs": [],
   "source": [
    "##Edad promedio de las personas diagnosticados con SARS-CoV-2##\n",
    "T_1=[]\n",
    "Data=list(X.EDAD)\n",
    "for i in range (n):\n",
    "    z=np.mean(Data[0:i]+Data[i+1:])\n",
    "    T_1.append(z)"
   ]
  },
  {
   "cell_type": "code",
   "execution_count": 70,
   "metadata": {
    "scrolled": true
   },
   "outputs": [],
   "source": [
    "##Edad promedio de las personas diagnosticados con SARS-CoV-2 en la CDMX##\n",
    "T_2=[]\n",
    "Data=list(X1.EDAD)\n",
    "for i in range (n):\n",
    "    z=np.mean(Data[0:i]+Data[i+1:])\n",
    "    T_2.append(z)"
   ]
  },
  {
   "cell_type": "code",
   "execution_count": 71,
   "metadata": {},
   "outputs": [],
   "source": [
    "##Edad promedio de las personas hospitalizadas por ser diagnosticados con SARS-CoV-2##\n",
    "T_3=[]\n",
    "Data=list(X2.EDAD)\n",
    "for i in range (n):\n",
    "    z=np.mean(Data[0:i]+Data[i+1:])\n",
    "    T_3.append(z)"
   ]
  },
  {
   "cell_type": "code",
   "execution_count": 72,
   "metadata": {},
   "outputs": [],
   "source": [
    "##Edad promedio de las mujeres hospitalizadas por ser diagnosticadas con SARS-CoV-2##\n",
    "T_4=[]\n",
    "Data=list(X3.EDAD)\n",
    "for i in range (n):\n",
    "    z=np.mean(Data[0:i]+Data[i+1:])\n",
    "    T_4.append(z)"
   ]
  },
  {
   "cell_type": "code",
   "execution_count": 73,
   "metadata": {},
   "outputs": [],
   "source": [
    "##La edad mediana de las personas diagnosticadas con SARS-CoV-2##\n",
    "T_5=[]\n",
    "Data=list(X.EDAD)\n",
    "for i in range (n):\n",
    "    z=np.median(Data[0:i]+Data[i+1:])\n",
    "    T_5.append(z)"
   ]
  },
  {
   "cell_type": "code",
   "execution_count": 74,
   "metadata": {},
   "outputs": [],
   "source": [
    "##El cuantil 0.7 de la edad de las personas diagnosticadas con SARS-CoV-2 en la CDMX##\n",
    "T_6=[]\n",
    "alpha=0.7\n",
    "Data=list(X1.EDAD)\n",
    "for i in range (n):\n",
    "    z=np.quantile(a=Data[0:i]+Data[i+1:],q=alpha)\n",
    "    T_6.append(z)"
   ]
  },
  {
   "cell_type": "code",
   "execution_count": 75,
   "metadata": {},
   "outputs": [],
   "source": [
    "##La probabilidad de que una persona diagnosticada con SARS-CoV-2 con edad entre 25 y 40 años sea hospitalizado##\n",
    "T_7=[]\n",
    "Data=list(X.Flag_Hosp_25_40)\n",
    "for i in range (n):\n",
    "    z=(sum(Data[0:i]+Data[i+1:]))/len(Data[0:i]+Data[i+1:])\n",
    "    T_7.append(z)"
   ]
  },
  {
   "cell_type": "code",
   "execution_count": 76,
   "metadata": {},
   "outputs": [],
   "source": [
    "Mean_1=[n*Prom_real_edad-(n-1)*T_1[i] for i in range(n)]\n",
    "Mean_2=[n*PromCDMX_real_edad-(n-1)*T_2[i] for i in range(n)]\n",
    "Mean_3=[n*PromHOSP_real_edad-(n-1)*T_3[i] for i in range(n)]\n",
    "Mean_4=[n*PromHOSP_real_edad_F-(n-1)*T_4[i] for i in range(n)]\n",
    "Median_5=[n*Mediana_real_edad-(n-1)*T_5[i] for i in range(n)]\n",
    "Q_6=[n*q_real-(n-1)*T_6[i] for i in range(n)]\n",
    "Proba_25_40=[n*probabilidad_hosp_real-(n-1)*T_7[i] for i in range(n)]"
   ]
  },
  {
   "cell_type": "code",
   "execution_count": 77,
   "metadata": {},
   "outputs": [],
   "source": [
    "var_1=((np.var(Mean_1)*n)/(n-1))/n\n",
    "var_2=((np.var(Mean_2)*n)/(n-1))/n\n",
    "var_3=((np.var(Mean_3)*n)/(n-1))/n\n",
    "var_4=((np.var(Mean_4)*n)/(n-1))/n\n",
    "var_5=((np.var(Median_5)*n)/(n-1))/n\n",
    "var_6=((np.var(Q_6)*n)/(n-1))/n\n",
    "var_7=((np.var(Proba_25_40)*n)/(n-1))/n"
   ]
  },
  {
   "cell_type": "code",
   "execution_count": 78,
   "metadata": {},
   "outputs": [
    {
     "data": {
      "text/html": [
       "<div>\n",
       "<style scoped>\n",
       "    .dataframe tbody tr th:only-of-type {\n",
       "        vertical-align: middle;\n",
       "    }\n",
       "\n",
       "    .dataframe tbody tr th {\n",
       "        vertical-align: top;\n",
       "    }\n",
       "\n",
       "    .dataframe thead th {\n",
       "        text-align: right;\n",
       "    }\n",
       "</style>\n",
       "<table border=\"1\" class=\"dataframe\">\n",
       "  <thead>\n",
       "    <tr style=\"text-align: right;\">\n",
       "      <th></th>\n",
       "      <th>0</th>\n",
       "    </tr>\n",
       "  </thead>\n",
       "  <tbody>\n",
       "    <tr>\n",
       "      <th>Var_Edad_Promedio_SARS</th>\n",
       "      <td>0.010345</td>\n",
       "    </tr>\n",
       "    <tr>\n",
       "      <th>Var_Edad_Promedio_SARS_CDMX</th>\n",
       "      <td>0.037985</td>\n",
       "    </tr>\n",
       "    <tr>\n",
       "      <th>Var_Edad_Promedio_SARS_HOSP</th>\n",
       "      <td>0.024465</td>\n",
       "    </tr>\n",
       "    <tr>\n",
       "      <th>Var_Edad_Promedio_SARS_MUJ_HOPS</th>\n",
       "      <td>0.074926</td>\n",
       "    </tr>\n",
       "    <tr>\n",
       "      <th>Var_Edad_Mediana_SARS</th>\n",
       "      <td>0.000000</td>\n",
       "    </tr>\n",
       "    <tr>\n",
       "      <th>Var_$q_{0.7}$</th>\n",
       "      <td>0.000000</td>\n",
       "    </tr>\n",
       "    <tr>\n",
       "      <th>Var_Probabilidad_de_Hospitalizacion</th>\n",
       "      <td>0.000003</td>\n",
       "    </tr>\n",
       "  </tbody>\n",
       "</table>\n",
       "</div>"
      ],
      "text/plain": [
       "                                            0\n",
       "Var_Edad_Promedio_SARS               0.010345\n",
       "Var_Edad_Promedio_SARS_CDMX          0.037985\n",
       "Var_Edad_Promedio_SARS_HOSP          0.024465\n",
       "Var_Edad_Promedio_SARS_MUJ_HOPS      0.074926\n",
       "Var_Edad_Mediana_SARS                0.000000\n",
       "Var_$q_{0.7}$                        0.000000\n",
       "Var_Probabilidad_de_Hospitalizacion  0.000003"
      ]
     },
     "metadata": {},
     "output_type": "display_data"
    }
   ],
   "source": [
    "display(pd.DataFrame([var_1,var_2,var_3,var_4,var_5,var_6,var_7],index=['Var_Edad_Promedio_SARS','Var_Edad_Promedio_SARS_CDMX','Var_Edad_Promedio_SARS_HOSP',\n",
    "                                                        'Var_Edad_Promedio_SARS_MUJ_HOSP',\n",
    "                                                        'Var_Edad_Mediana_SARS',\n",
    "                                                        'Var_$q_{%s}$'%alpha ,\n",
    "                                                        'Var_Probabilidad_de_Hospitalizacion']))"
   ]
  },
  {
   "cell_type": "markdown",
   "metadata": {},
   "source": [
    "**Intervalos de Confianza Bootstraping**"
   ]
  },
  {
   "cell_type": "code",
   "execution_count": 79,
   "metadata": {},
   "outputs": [],
   "source": [
    "alpha=0.05"
   ]
  },
  {
   "cell_type": "code",
   "execution_count": 80,
   "metadata": {},
   "outputs": [],
   "source": [
    "#Intervalos\n",
    "C1=(2*Prom_real_edad-np.quantile(a=T1_List,q=1-alpha/2),2*Prom_real_edad-np.quantile(a=T1_List,q=alpha/2))\n",
    "\n",
    "C2=(2*PromCDMX_real_edad-np.quantile(a=T2_List,q=1-alpha/2),2*PromCDMX_real_edad-np.quantile(a=T2_List,q=alpha/2))\n",
    "\n",
    "C3=(2*PromHOSP_real_edad-np.quantile(a=T3_List,q=1-alpha/2),2*PromHOSP_real_edad-np.quantile(a=T3_List,q=alpha/2))\n",
    "\n",
    "C4=(2*PromHOSP_real_edad_F-np.quantile(a=T4_List,q=1-alpha/2),2*PromHOSP_real_edad_F-np.quantile(a=T4_List,q=alpha/2))\n",
    "\n",
    "C5=(2*Mediana_real_edad-np.quantile(a=T5_List,q=1-alpha/2),2*Mediana_real_edad-np.quantile(a=T5_List,q=alpha/2))\n",
    "\n",
    "C6=(2*q_real-np.quantile(a=T6_List,q=1-alpha/2),2*q_real-np.quantile(a=T6_List,q=alpha/2))\n",
    "\n",
    "C7=(2*probabilidad_hosp_real-np.quantile(a=T7_List,q=1-alpha/2),2*probabilidad_hosp_real-np.quantile(a=T7_List,q=alpha/2))"
   ]
  },
  {
   "cell_type": "code",
   "execution_count": 82,
   "metadata": {},
   "outputs": [
    {
     "name": "stdout",
     "output_type": "stream",
     "text": [
      "Intervalo T1: (46.32470921562779, 46.70801414511524)\n",
      "Intervalo T2: (46.234045667494925, 46.628500526682856)\n",
      "Intervalo T3: (53.306633081646766, 53.65676089895322)\n",
      "Intervalo T4: (53.917524112896885, 54.30895822307539)\n",
      "Intervalo T5: (46.0, 46.025)\n",
      "Intervalo T6: (53.0, 54.0)\n",
      "Intervalo T7: (0.06507924673000726, 0.0719004303182651)\n"
     ]
    }
   ],
   "source": [
    "print('Intervalo T1:',C1)\n",
    "print('Intervalo T2:',C2)\n",
    "print('Intervalo T3:',C3)\n",
    "print('Intervalo T4:',C4)\n",
    "print('Intervalo T5:',C5)\n",
    "print('Intervalo T6:',C6)\n",
    "print('Intervalo T7:',C7)"
   ]
  },
  {
   "cell_type": "markdown",
   "metadata": {},
   "source": [
    "**Grafica de Intervalos**"
   ]
  },
  {
   "cell_type": "code",
   "execution_count": 88,
   "metadata": {
    "scrolled": true
   },
   "outputs": [
    {
     "data": {
      "text/plain": [
       "Text(0.5, 1.0, 'Probabilidad_de_Hospitalizacion')"
      ]
     },
     "execution_count": 88,
     "metadata": {},
     "output_type": "execute_result"
    },
    {
     "data": {
      "image/png": "[encoded data removed]",
      "text/plain": [
       "<Figure size 1800x1440 with 7 Axes>"
      ]
     },
     "metadata": {
      "needs_background": "light"
     },
     "output_type": "display_data"
    }
   ],
   "source": [
    "alpha=0.7\n",
    "plt.figure(figsize=[25,20])\n",
    "plt.subplot(4,4,1)\n",
    "plt.hist(T1_List,bins=20,alpha=0.85)\n",
    "plt.plot([Prom_real_edad,Prom_real_edad],[0,70],color='black')\n",
    "plt.plot([C1[0],C1[0]],[0,70],color='red')\n",
    "plt.plot([C1[1],C1[1]],[0,70],color='red')\n",
    "plt.title('Edad_Promedio_SARS')\n",
    "\n",
    "plt.subplot(4,4,2)\n",
    "plt.hist(T2_List,bins=20,alpha=0.85)\n",
    "plt.plot([PromCDMX_real_edad,PromCDMX_real_edad],[0,80],color='black')\n",
    "plt.plot([C2[0],C2[0]],[0,80],color='red')\n",
    "plt.plot([C2[1],C2[1]],[0,80],color='red')\n",
    "plt.title('Edad_Promedio_SARS_CDMX')\n",
    "\n",
    "plt.subplot(4,4,3)\n",
    "plt.hist(T3_List,bins=20,alpha=0.85)\n",
    "plt.plot([PromHOSP_real_edad,PromHOSP_real_edad],[0,70],color='black')\n",
    "plt.plot([C3[0],C3[0]],[0,70],color='red')\n",
    "plt.plot([C3[1],C3[1]],[0,70],color='red')\n",
    "plt.title('Edad_Promedio_SARS_HOSP')\n",
    "\n",
    "plt.subplot(4,4,4)\n",
    "plt.hist(T4_List,bins=20,alpha=0.85)\n",
    "plt.plot([PromHOSP_real_edad_F,PromHOSP_real_edad_F],[0,80],color='black')\n",
    "plt.plot([C4[0],C4[0]],[0,80],color='red')\n",
    "plt.plot([C4[1],C4[1]],[0,80],color='red')\n",
    "plt.title('Edad_Promedio_SARS_MUJ_HOSP')\n",
    "\n",
    "plt.subplot(4,4,5)\n",
    "plt.hist(T5_List,bins=20,alpha=0.85)\n",
    "plt.plot([Mediana_real_edad,Mediana_real_edad],[0,1000],color='black')\n",
    "plt.plot([C5[0],C5[0]],[0,1000],color='red')\n",
    "plt.plot([C5[1],C5[1]],[0,1000],color='red')\n",
    "plt.title('Edad_Mediana_SARS')\n",
    "\n",
    "plt.subplot(4,4,6)\n",
    "plt.hist(T6_List,bins=20,alpha=0.85)\n",
    "plt.plot([q_real,q_real],[0,1500],color='black')\n",
    "plt.plot([C6[0],C6[0]],[0,1500],color='red')\n",
    "plt.plot([C6[1],C6[1]],[0,1500],color='red')\n",
    "plt.title('$q_{%s}$'%alpha)\n",
    "\n",
    "plt.subplot(4,4,7)\n",
    "plt.hist(T7_List,bins=20,alpha=0.85)\n",
    "plt.plot([probabilidad_hosp_real,probabilidad_hosp_real],[0,80],color='black')\n",
    "plt.plot([C7[0],C7[0]],[0,80],color='red')\n",
    "plt.plot([C7[1],C7[1]],[0,80],color='red')\n",
    "plt.title('Probabilidad_de_Hospitalizacion')\n"
   ]
  },
  {
   "cell_type": "markdown",
   "metadata": {},
   "source": [
    "**Appendix jackknife_stats**"
   ]
  },
  {
   "cell_type": "code",
   "execution_count": 89,
   "metadata": {},
   "outputs": [],
   "source": [
    "##Uso de la funcion  jackknife_stats para comparar los intervalos de confianza ( conf_interval) vs los obtenidos por Bootstraping##\n",
    "\n",
    "from astropy.stats import jackknife_stats"
   ]
  },
  {
   "cell_type": "code",
   "execution_count": 90,
   "metadata": {},
   "outputs": [
    {
     "name": "stdout",
     "output_type": "stream",
     "text": [
      "46.51408120659537 0.0 0.10171141890510292 [46.31473049 46.71343192]\n"
     ]
    }
   ],
   "source": [
    "##Edad promedio de las personas diagnosticados con SARS-CoV-2##\n",
    "test_statistic = np.mean\n",
    "data= np.array(X.EDAD)\n",
    "estimate, bias, stderr, conf_interval, = jackknife_stats(data, test_statistic, 0.95)\n",
    "print(estimate, bias, stderr, conf_interval)"
   ]
  },
  {
   "cell_type": "code",
   "execution_count": 91,
   "metadata": {
    "scrolled": true
   },
   "outputs": [
    {
     "name": "stdout",
     "output_type": "stream",
     "text": [
      "46.42605578930964 0.0 0.19488661624832976 [46.04408504 46.80802654]\n"
     ]
    }
   ],
   "source": [
    "##Edad promedio de las personas diagnosticados con SARS-CoV-2 en la CDMX##\n",
    "test_statistic = np.mean\n",
    "data= np.array(X1.EDAD)\n",
    "estimate, bias, stderr, conf_interval, = jackknife_stats(data, test_statistic, 0.95)\n",
    "print(estimate, bias, stderr, conf_interval)"
   ]
  },
  {
   "cell_type": "code",
   "execution_count": 92,
   "metadata": {},
   "outputs": [
    {
     "name": "stdout",
     "output_type": "stream",
     "text": [
      "53.48198489758474 -6.586020617760369e-11 0.1564090043094045 [53.17542888 53.78854091]\n"
     ]
    }
   ],
   "source": [
    "##Edad promedio de las personas hospitalizadas por ser diagnosticados con SARS-CoV-2##\n",
    "test_statistic = np.mean\n",
    "data= np.array(X2.EDAD)\n",
    "estimate, bias, stderr, conf_interval, = jackknife_stats(data, test_statistic, 0.95)\n",
    "print(estimate, bias, stderr, conf_interval)"
   ]
  },
  {
   "cell_type": "code",
   "execution_count": 93,
   "metadata": {},
   "outputs": [
    {
     "name": "stdout",
     "output_type": "stream",
     "text": [
      "54.10779384035198 0.0 0.27368921522263867 [53.57137284 54.64421485]\n"
     ]
    }
   ],
   "source": [
    "##Edad promedio de las mujeres hospitalizadas por ser diagnosticadas con SARS-CoV-2##\n",
    "test_statistic = np.mean\n",
    "data= np.array(X3.EDAD)\n",
    "estimate, bias, stderr, conf_interval, = jackknife_stats(data, test_statistic, 0.95)\n",
    "print(estimate, bias, stderr, conf_interval)"
   ]
  },
  {
   "cell_type": "code",
   "execution_count": 94,
   "metadata": {},
   "outputs": [
    {
     "name": "stdout",
     "output_type": "stream",
     "text": [
      "46.0 0.0 0.0 [46. 46.]\n"
     ]
    }
   ],
   "source": [
    "##La edad mediana de las personas diagnosticadas con SARS-CoV-2##\n",
    "test_statistic = lambda x: np.median(x)\n",
    "data= np.array(X.EDAD)\n",
    "estimate, bias, stderr, conf_interval, = jackknife_stats(data, test_statistic, 0.95)\n",
    "print(estimate, bias, stderr, conf_interval)"
   ]
  },
  {
   "cell_type": "code",
   "execution_count": null,
   "metadata": {},
   "outputs": [],
   "source": []
  }
 ],
 "metadata": {
  "kernelspec": {
   "display_name": "Python 3",
   "language": "python",
   "name": "python3"
  },
  "language_info": {
   "codemirror_mode": {
    "name": "ipython",
    "version": 3
   },
   "file_extension": ".py",
   "mimetype": "text/x-python",
   "name": "python",
   "nbconvert_exporter": "python",
   "pygments_lexer": "ipython3",
   "version": "3.7.6"
  }
 },
 "nbformat": 4,
 "nbformat_minor": 4
}
